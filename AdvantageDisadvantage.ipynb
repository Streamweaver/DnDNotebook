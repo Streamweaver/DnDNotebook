{
 "cells": [
  {
   "cell_type": "code",
   "execution_count": 1,
   "metadata": {
    "collapsed": true
   },
   "outputs": [],
   "source": [
    "import pandas as pd\n",
    "import numpy as np\n",
    "\n",
    "def d20():\n",
    "    # Returns random int result of a d20\n",
    "    return np.random.randint(1, 21)\n",
    "\n",
    "def xd20(n):\n",
    "    # Returns list of ints that are random d20 rolls\n",
    "    return [d20() for _ in range(n)]"
   ]
  },
  {
   "cell_type": "markdown",
   "source": [
    "# Advantage and Other Lies the PHB told me"
   ],
   "metadata": {
    "collapsed": false
   }
  },
  {
   "cell_type": "markdown",
   "source": [
    "A cheeky examination of advantage and what it actually means. Overall the impact of advantage or disadvantage is\n",
    "variable and depends on the target number.  That is to say that the higher the Target the less likely a second roll\n",
    "will roll over it, and the opposite for disadvantage. So while +5 is the rule of thumb for applying a numerical\n",
    "equivalent to advantage, the real number shifts depending on the Target number."
   ],
   "metadata": {
    "collapsed": false
   }
  },
  {
   "cell_type": "code",
   "execution_count": 4,
   "outputs": [
    {
     "data": {
      "text/plain": "           Advantage  Elven Advantage\ncount  100000.000000    100000.000000\nmean       13.789750        15.470260\nstd         4.734204         3.881542\nmin         1.000000         1.000000\n25%        10.000000        13.000000\n50%        15.000000        16.000000\n75%        18.000000        19.000000\nmax        20.000000        20.000000",
      "text/html": "<div>\n<style scoped>\n    .dataframe tbody tr th:only-of-type {\n        vertical-align: middle;\n    }\n\n    .dataframe tbody tr th {\n        vertical-align: top;\n    }\n\n    .dataframe thead th {\n        text-align: right;\n    }\n</style>\n<table border=\"1\" class=\"dataframe\">\n  <thead>\n    <tr style=\"text-align: right;\">\n      <th></th>\n      <th>Advantage</th>\n      <th>Elven Advantage</th>\n    </tr>\n  </thead>\n  <tbody>\n    <tr>\n      <th>count</th>\n      <td>100000.000000</td>\n      <td>100000.000000</td>\n    </tr>\n    <tr>\n      <th>mean</th>\n      <td>13.789750</td>\n      <td>15.470260</td>\n    </tr>\n    <tr>\n      <th>std</th>\n      <td>4.734204</td>\n      <td>3.881542</td>\n    </tr>\n    <tr>\n      <th>min</th>\n      <td>1.000000</td>\n      <td>1.000000</td>\n    </tr>\n    <tr>\n      <th>25%</th>\n      <td>10.000000</td>\n      <td>13.000000</td>\n    </tr>\n    <tr>\n      <th>50%</th>\n      <td>15.000000</td>\n      <td>16.000000</td>\n    </tr>\n    <tr>\n      <th>75%</th>\n      <td>18.000000</td>\n      <td>19.000000</td>\n    </tr>\n    <tr>\n      <th>max</th>\n      <td>20.000000</td>\n      <td>20.000000</td>\n    </tr>\n  </tbody>\n</table>\n</div>"
     },
     "execution_count": 4,
     "metadata": {},
     "output_type": "execute_result"
    }
   ],
   "source": [
    "i = 100000 # iterations to ru n\n",
    "rolls = {\n",
    "    'Normal Roll': [d20 for _ in range(i)],\n",
    "    'Advantage': [max(xd20(2)) for _ in range(i)],\n",
    "    'Elven Advantage': [max(xd20(3)) for _ in range(i)]\n",
    "}\n",
    "df = pd.DataFrame(rolls)\n",
    "df.describe()"
   ],
   "metadata": {
    "collapsed": false,
    "pycharm": {
     "name": "#%%\n"
    }
   }
  }
 ],
 "metadata": {
  "kernelspec": {
   "display_name": "Python 3",
   "language": "python",
   "name": "python3"
  },
  "language_info": {
   "codemirror_mode": {
    "name": "ipython",
    "version": 2
   },
   "file_extension": ".py",
   "mimetype": "text/x-python",
   "name": "python",
   "nbconvert_exporter": "python",
   "pygments_lexer": "ipython2",
   "version": "2.7.6"
  }
 },
 "nbformat": 4,
 "nbformat_minor": 0
}
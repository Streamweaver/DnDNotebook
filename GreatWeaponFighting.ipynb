{
 "cells": [
  {
   "cell_type": "markdown",
   "metadata": {
    "collapsed": true,
    "pycharm": {
     "name": "#%% md\n"
    }
   },
   "source": [
    "# Great Weapon Fighting\n",
    "These are some math examples of the values you get for the Great Weapon Fighting style in 5e D&D\n",
    "which let you reroll 1 or 2 on any weapon damage dice.\n",
    "\n",
    "## Doing Some Math"
   ]
  },
  {
   "cell_type": "code",
   "execution_count": 15,
   "outputs": [
    {
     "data": {
      "text/plain": "   Die Type  Difference\n0         4    0.500000\n1         6    0.666667\n2         8    0.750000\n3        10    0.800000\n4        12    0.833333",
      "text/html": "<div>\n<style scoped>\n    .dataframe tbody tr th:only-of-type {\n        vertical-align: middle;\n    }\n\n    .dataframe tbody tr th {\n        vertical-align: top;\n    }\n\n    .dataframe thead th {\n        text-align: right;\n    }\n</style>\n<table border=\"1\" class=\"dataframe\">\n  <thead>\n    <tr style=\"text-align: right;\">\n      <th></th>\n      <th>Die Type</th>\n      <th>Difference</th>\n    </tr>\n  </thead>\n  <tbody>\n    <tr>\n      <th>0</th>\n      <td>4</td>\n      <td>0.500000</td>\n    </tr>\n    <tr>\n      <th>1</th>\n      <td>6</td>\n      <td>0.666667</td>\n    </tr>\n    <tr>\n      <th>2</th>\n      <td>8</td>\n      <td>0.750000</td>\n    </tr>\n    <tr>\n      <th>3</th>\n      <td>10</td>\n      <td>0.800000</td>\n    </tr>\n    <tr>\n      <th>4</th>\n      <td>12</td>\n      <td>0.833333</td>\n    </tr>\n  </tbody>\n</table>\n</div>"
     },
     "execution_count": 15,
     "metadata": {},
     "output_type": "execute_result"
    }
   ],
   "source": [
    "import numpy as np\n",
    "import pandas as pd\n",
    "\n",
    "# Pulling this model from AceCalhoon's answer\n",
    "# https://rpg.stackexchange.com/questions/47172/how-much-damage-does-great-weapon-fighting-add-on-average\n",
    "\n",
    "series = {}\n",
    "for i in range(4, 13, 2):\n",
    "    series[i] = 1 - (2/i)\n",
    "df = pd.DataFrame(series.items(), columns=['Die Type', 'Difference'])\n",
    "df"
   ],
   "metadata": {
    "collapsed": false,
    "pycharm": {
     "name": "#%%\n"
    }
   }
  },
  {
   "cell_type": "markdown",
   "source": [
    "## Code to generate the values"
   ],
   "metadata": {
    "collapsed": false
   }
  },
  {
   "cell_type": "code",
   "execution_count": 16,
   "outputs": [],
   "source": [
    "def gwf_reroll(roll, sides):\n",
    "    \"\"\"\n",
    "    This checks the value of roll and rolls again if a 2 or 1 and returns it.\n",
    "    :param roll: int of roll value\n",
    "    :param sides: int of die side to use.\n",
    "    :return: int of new roll value\n",
    "    \"\"\"\n",
    "    if roll < 3:\n",
    "        return np.random.randint(1, sides + 1)\n",
    "    return roll\n",
    "\n",
    "def hr_add_reroll(roll, sides):\n",
    "    \"\"\"\n",
    "    This checks the value of roll and adds a new roll if it's under a 3.\n",
    "    :param roll: int of roll value\n",
    "    :param sides: int of die side to use\n",
    "    :return: int of new roll value\n",
    "    \"\"\"\n",
    "    if roll < 3:\n",
    "        new_roll = roll + np.random.randint(1, sides + 1)\n",
    "        return new_roll\n",
    "    return roll\n",
    "\n",
    "def hr_higher_reroll(roll, sides):\n",
    "    \"\"\"\n",
    "    This keeps the higher of either the original roll or reroll.\n",
    "    :param roll: int of roll value\n",
    "    :param sides: int of die side to use\n",
    "    :return: int of new roll value\n",
    "    \"\"\"\n",
    "    roll_2 = 0\n",
    "    if roll < 3:\n",
    "        roll_2 = np.random.randint(1, sides + 1)\n",
    "    return max(roll, roll_2)\n",
    "\n",
    "def damage_roll(sides, num_die=1, gwf=False, crit_on=20, reroll_fn=gwf_reroll):\n",
    "    \"\"\"\n",
    "    This rolls a number of die and returns the result, rerolling 1s or 2s if gwf is true.\n",
    "    :param sides: int sided die to use\n",
    "    :param num_die: int number of die\n",
    "    :param gwf: bool to indicate using gwf rerolls\n",
    "    :param crit_on: int of value or above on d20 to become a crit\n",
    "    :param reroll_fn: function to use for any reroll\n",
    "    :return: int of roll total\n",
    "    \"\"\"\n",
    "    # Crits double the number of rolls\n",
    "    is_crit = np.random.randint(1, 21) >= crit_on\n",
    "    num_actual = num_die * 2 if is_crit else num_die\n",
    "\n",
    "    result = 0\n",
    "    for _ in range(num_actual):\n",
    "        roll = np.random.randint(1, sides + 1) # high is exlusive\n",
    "        if gwf:\n",
    "            roll = reroll_fn(roll, sides)\n",
    "        result = roll + result\n",
    "\n",
    "    return result"
   ],
   "metadata": {
    "collapsed": false,
    "pycharm": {
     "name": "#%%\n"
    }
   }
  },
  {
   "cell_type": "markdown",
   "source": [
    "## Running the simulation for various die types."
   ],
   "metadata": {
    "collapsed": false
   }
  },
  {
   "cell_type": "code",
   "execution_count": 17,
   "outputs": [],
   "source": [
    "# Setup a means to generate the full data.\n",
    "def generate_weapon_data(gwf=False, reroll_fn=gwf_reroll):\n",
    "    crit_range = {'Base': 100, '20': 20, '19': 19}\n",
    "    die_range = {'1d8': (8, 1), '1d10': (10, 1), '1d12': (12, 1), '2d6': (6, 2)}\n",
    "    weapon_data = {}\n",
    "    for cl, cv in crit_range.items():\n",
    "        weapon_data[cl] = {}\n",
    "        for dk, dv in die_range.items():\n",
    "            weapon_data[cl][dk] = pd.Series(damage_roll(dv[0], dv[1], gwf=gwf, crit_on=cv, reroll_fn=reroll_fn) for _ in range(10000)).mean()\n",
    "    return weapon_data"
   ],
   "metadata": {
    "collapsed": false,
    "pycharm": {
     "name": "#%%\n"
    }
   }
  },
  {
   "cell_type": "markdown",
   "source": [
    "### Normal (No GWF)"
   ],
   "metadata": {
    "collapsed": false
   }
  },
  {
   "cell_type": "code",
   "execution_count": 18,
   "outputs": [
    {
     "data": {
      "text/plain": "        Base      20      19\n1d8   4.5455  4.7528  4.9806\n1d10  5.4811  5.7918  6.1050\n1d12  6.5182  6.8196  7.2198\n2d6   7.0212  7.4140  7.6521",
      "text/html": "<div>\n<style scoped>\n    .dataframe tbody tr th:only-of-type {\n        vertical-align: middle;\n    }\n\n    .dataframe tbody tr th {\n        vertical-align: top;\n    }\n\n    .dataframe thead th {\n        text-align: right;\n    }\n</style>\n<table border=\"1\" class=\"dataframe\">\n  <thead>\n    <tr style=\"text-align: right;\">\n      <th></th>\n      <th>Base</th>\n      <th>20</th>\n      <th>19</th>\n    </tr>\n  </thead>\n  <tbody>\n    <tr>\n      <th>1d8</th>\n      <td>4.5455</td>\n      <td>4.7528</td>\n      <td>4.9806</td>\n    </tr>\n    <tr>\n      <th>1d10</th>\n      <td>5.4811</td>\n      <td>5.7918</td>\n      <td>6.1050</td>\n    </tr>\n    <tr>\n      <th>1d12</th>\n      <td>6.5182</td>\n      <td>6.8196</td>\n      <td>7.2198</td>\n    </tr>\n    <tr>\n      <th>2d6</th>\n      <td>7.0212</td>\n      <td>7.4140</td>\n      <td>7.6521</td>\n    </tr>\n  </tbody>\n</table>\n</div>"
     },
     "execution_count": 18,
     "metadata": {},
     "output_type": "execute_result"
    }
   ],
   "source": [
    "normal_df = pd.DataFrame(generate_weapon_data())\n",
    "normal_df"
   ],
   "metadata": {
    "collapsed": false,
    "pycharm": {
     "name": "#%%\n"
    }
   }
  },
  {
   "cell_type": "markdown",
   "source": [
    "### With GWF"
   ],
   "metadata": {
    "collapsed": false
   }
  },
  {
   "cell_type": "code",
   "execution_count": 19,
   "outputs": [
    {
     "data": {
      "text/plain": "        Base      20      19\n1d8   5.2519  5.4932  5.7363\n1d10  6.2870  6.6154  6.9639\n1d12  7.3130  7.7036  8.0297\n2d6   8.3066  8.7416  9.1311",
      "text/html": "<div>\n<style scoped>\n    .dataframe tbody tr th:only-of-type {\n        vertical-align: middle;\n    }\n\n    .dataframe tbody tr th {\n        vertical-align: top;\n    }\n\n    .dataframe thead th {\n        text-align: right;\n    }\n</style>\n<table border=\"1\" class=\"dataframe\">\n  <thead>\n    <tr style=\"text-align: right;\">\n      <th></th>\n      <th>Base</th>\n      <th>20</th>\n      <th>19</th>\n    </tr>\n  </thead>\n  <tbody>\n    <tr>\n      <th>1d8</th>\n      <td>5.2519</td>\n      <td>5.4932</td>\n      <td>5.7363</td>\n    </tr>\n    <tr>\n      <th>1d10</th>\n      <td>6.2870</td>\n      <td>6.6154</td>\n      <td>6.9639</td>\n    </tr>\n    <tr>\n      <th>1d12</th>\n      <td>7.3130</td>\n      <td>7.7036</td>\n      <td>8.0297</td>\n    </tr>\n    <tr>\n      <th>2d6</th>\n      <td>8.3066</td>\n      <td>8.7416</td>\n      <td>9.1311</td>\n    </tr>\n  </tbody>\n</table>\n</div>"
     },
     "execution_count": 19,
     "metadata": {},
     "output_type": "execute_result"
    }
   ],
   "source": [
    "gwf_df = pd.DataFrame(generate_weapon_data(gwf=True))\n",
    "gwf_df"
   ],
   "metadata": {
    "collapsed": false,
    "pycharm": {
     "name": "#%%\n"
    }
   }
  },
  {
   "cell_type": "markdown",
   "source": [
    "## Various House Rules\n",
    "\n",
    "### Add new roll to previous roll option."
   ],
   "metadata": {
    "collapsed": false
   }
  },
  {
   "cell_type": "code",
   "execution_count": 20,
   "outputs": [
    {
     "data": {
      "text/plain": "        Base      20       19\n1d8   5.6106  5.8771   6.1308\n1d10  6.6049  6.9873   7.2745\n1d12  7.6091  7.9746   8.3628\n2d6   9.3505  9.7956  10.2767",
      "text/html": "<div>\n<style scoped>\n    .dataframe tbody tr th:only-of-type {\n        vertical-align: middle;\n    }\n\n    .dataframe tbody tr th {\n        vertical-align: top;\n    }\n\n    .dataframe thead th {\n        text-align: right;\n    }\n</style>\n<table border=\"1\" class=\"dataframe\">\n  <thead>\n    <tr style=\"text-align: right;\">\n      <th></th>\n      <th>Base</th>\n      <th>20</th>\n      <th>19</th>\n    </tr>\n  </thead>\n  <tbody>\n    <tr>\n      <th>1d8</th>\n      <td>5.6106</td>\n      <td>5.8771</td>\n      <td>6.1308</td>\n    </tr>\n    <tr>\n      <th>1d10</th>\n      <td>6.6049</td>\n      <td>6.9873</td>\n      <td>7.2745</td>\n    </tr>\n    <tr>\n      <th>1d12</th>\n      <td>7.6091</td>\n      <td>7.9746</td>\n      <td>8.3628</td>\n    </tr>\n    <tr>\n      <th>2d6</th>\n      <td>9.3505</td>\n      <td>9.7956</td>\n      <td>10.2767</td>\n    </tr>\n  </tbody>\n</table>\n</div>"
     },
     "execution_count": 20,
     "metadata": {},
     "output_type": "execute_result"
    }
   ],
   "source": [
    "hr_add_df = pd.DataFrame(generate_weapon_data(gwf=True, reroll_fn=hr_add_reroll))\n",
    "hr_add_df"
   ],
   "metadata": {
    "collapsed": false,
    "pycharm": {
     "name": "#%%\n"
    }
   }
  },
  {
   "cell_type": "markdown",
   "source": [
    "## Keep the higher of the rolls"
   ],
   "metadata": {
    "collapsed": false
   }
  },
  {
   "cell_type": "code",
   "execution_count": 21,
   "outputs": [
    {
     "data": {
      "text/plain": "        Base      20      19\n1d8   5.2632  5.5306  5.8035\n1d10  6.3053  6.6405  6.9681\n1d12  7.3588  7.7119  8.0865\n2d6   8.3856  8.7869  9.2276",
      "text/html": "<div>\n<style scoped>\n    .dataframe tbody tr th:only-of-type {\n        vertical-align: middle;\n    }\n\n    .dataframe tbody tr th {\n        vertical-align: top;\n    }\n\n    .dataframe thead th {\n        text-align: right;\n    }\n</style>\n<table border=\"1\" class=\"dataframe\">\n  <thead>\n    <tr style=\"text-align: right;\">\n      <th></th>\n      <th>Base</th>\n      <th>20</th>\n      <th>19</th>\n    </tr>\n  </thead>\n  <tbody>\n    <tr>\n      <th>1d8</th>\n      <td>5.2632</td>\n      <td>5.5306</td>\n      <td>5.8035</td>\n    </tr>\n    <tr>\n      <th>1d10</th>\n      <td>6.3053</td>\n      <td>6.6405</td>\n      <td>6.9681</td>\n    </tr>\n    <tr>\n      <th>1d12</th>\n      <td>7.3588</td>\n      <td>7.7119</td>\n      <td>8.0865</td>\n    </tr>\n    <tr>\n      <th>2d6</th>\n      <td>8.3856</td>\n      <td>8.7869</td>\n      <td>9.2276</td>\n    </tr>\n  </tbody>\n</table>\n</div>"
     },
     "execution_count": 21,
     "metadata": {},
     "output_type": "execute_result"
    }
   ],
   "source": [
    "hr_higher_df = pd.DataFrame(generate_weapon_data(gwf=True, reroll_fn=hr_higher_reroll))\n",
    "hr_higher_df"
   ],
   "metadata": {
    "collapsed": false,
    "pycharm": {
     "name": "#%%\n"
    }
   }
  }
 ],
 "metadata": {
  "kernelspec": {
   "display_name": "Python 3",
   "language": "python",
   "name": "python3"
  },
  "language_info": {
   "codemirror_mode": {
    "name": "ipython",
    "version": 2
   },
   "file_extension": ".py",
   "mimetype": "text/x-python",
   "name": "python",
   "nbconvert_exporter": "python",
   "pygments_lexer": "ipython2",
   "version": "2.7.6"
  }
 },
 "nbformat": 4,
 "nbformat_minor": 0
}
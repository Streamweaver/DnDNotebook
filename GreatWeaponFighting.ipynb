{
 "cells": [
  {
   "cell_type": "markdown",
   "metadata": {
    "collapsed": true,
    "pycharm": {
     "name": "#%% md\n"
    }
   },
   "source": [
    "# Great Weapon Fighting\n",
    "These are some math examples of the values you get for the Great Weapon Fighting style in 5e D&D\n",
    "which let you reroll 1 or 2 on any weapon damage dice.\n",
    "\n",
    "## Doing Some Math"
   ]
  },
  {
   "cell_type": "code",
   "execution_count": 16,
   "outputs": [
    {
     "ename": "ImportError",
     "evalue": "Missing optional dependency 'tabulate'.  Use pip or conda to install tabulate.",
     "output_type": "error",
     "traceback": [
      "\u001B[1;31m---------------------------------------------------------------------------\u001B[0m",
      "\u001B[1;31mImportError\u001B[0m                               Traceback (most recent call last)",
      "\u001B[1;32m<ipython-input-16-a01b4f64d686>\u001B[0m in \u001B[0;36m<module>\u001B[1;34m\u001B[0m\n\u001B[0;32m      9\u001B[0m     \u001B[0mseries\u001B[0m\u001B[1;33m[\u001B[0m\u001B[0mi\u001B[0m\u001B[1;33m]\u001B[0m \u001B[1;33m=\u001B[0m \u001B[1;36m1\u001B[0m \u001B[1;33m-\u001B[0m \u001B[1;33m(\u001B[0m\u001B[1;36m2\u001B[0m\u001B[1;33m/\u001B[0m\u001B[0mi\u001B[0m\u001B[1;33m)\u001B[0m\u001B[1;33m\u001B[0m\u001B[1;33m\u001B[0m\u001B[0m\n\u001B[0;32m     10\u001B[0m \u001B[0mdf\u001B[0m \u001B[1;33m=\u001B[0m \u001B[0mpd\u001B[0m\u001B[1;33m.\u001B[0m\u001B[0mDataFrame\u001B[0m\u001B[1;33m(\u001B[0m\u001B[0mseries\u001B[0m\u001B[1;33m.\u001B[0m\u001B[0mitems\u001B[0m\u001B[1;33m(\u001B[0m\u001B[1;33m)\u001B[0m\u001B[1;33m,\u001B[0m \u001B[0mcolumns\u001B[0m\u001B[1;33m=\u001B[0m\u001B[1;33m[\u001B[0m\u001B[1;34m'Die Type'\u001B[0m\u001B[1;33m,\u001B[0m \u001B[1;34m'Difference'\u001B[0m\u001B[1;33m]\u001B[0m\u001B[1;33m)\u001B[0m\u001B[1;33m\u001B[0m\u001B[1;33m\u001B[0m\u001B[0m\n\u001B[1;32m---> 11\u001B[1;33m \u001B[0mdf\u001B[0m\u001B[1;33m.\u001B[0m\u001B[0mto_markdown\u001B[0m\u001B[1;33m(\u001B[0m\u001B[0mindex\u001B[0m\u001B[1;33m=\u001B[0m\u001B[1;32mFalse\u001B[0m\u001B[1;33m)\u001B[0m\u001B[1;33m\u001B[0m\u001B[1;33m\u001B[0m\u001B[0m\n\u001B[0m",
      "\u001B[1;32m~\\anaconda3\\envs\\DnDNotebook\\lib\\site-packages\\pandas\\core\\frame.py\u001B[0m in \u001B[0;36mto_markdown\u001B[1;34m(self, buf, mode, index, storage_options, **kwargs)\u001B[0m\n\u001B[0;32m   2337\u001B[0m         \u001B[0mkwargs\u001B[0m\u001B[1;33m.\u001B[0m\u001B[0msetdefault\u001B[0m\u001B[1;33m(\u001B[0m\u001B[1;34m\"tablefmt\"\u001B[0m\u001B[1;33m,\u001B[0m \u001B[1;34m\"pipe\"\u001B[0m\u001B[1;33m)\u001B[0m\u001B[1;33m\u001B[0m\u001B[1;33m\u001B[0m\u001B[0m\n\u001B[0;32m   2338\u001B[0m         \u001B[0mkwargs\u001B[0m\u001B[1;33m.\u001B[0m\u001B[0msetdefault\u001B[0m\u001B[1;33m(\u001B[0m\u001B[1;34m\"showindex\"\u001B[0m\u001B[1;33m,\u001B[0m \u001B[0mindex\u001B[0m\u001B[1;33m)\u001B[0m\u001B[1;33m\u001B[0m\u001B[1;33m\u001B[0m\u001B[0m\n\u001B[1;32m-> 2339\u001B[1;33m         \u001B[0mtabulate\u001B[0m \u001B[1;33m=\u001B[0m \u001B[0mimport_optional_dependency\u001B[0m\u001B[1;33m(\u001B[0m\u001B[1;34m\"tabulate\"\u001B[0m\u001B[1;33m)\u001B[0m\u001B[1;33m\u001B[0m\u001B[1;33m\u001B[0m\u001B[0m\n\u001B[0m\u001B[0;32m   2340\u001B[0m         \u001B[0mresult\u001B[0m \u001B[1;33m=\u001B[0m \u001B[0mtabulate\u001B[0m\u001B[1;33m.\u001B[0m\u001B[0mtabulate\u001B[0m\u001B[1;33m(\u001B[0m\u001B[0mself\u001B[0m\u001B[1;33m,\u001B[0m \u001B[1;33m**\u001B[0m\u001B[0mkwargs\u001B[0m\u001B[1;33m)\u001B[0m\u001B[1;33m\u001B[0m\u001B[1;33m\u001B[0m\u001B[0m\n\u001B[0;32m   2341\u001B[0m         \u001B[1;32mif\u001B[0m \u001B[0mbuf\u001B[0m \u001B[1;32mis\u001B[0m \u001B[1;32mNone\u001B[0m\u001B[1;33m:\u001B[0m\u001B[1;33m\u001B[0m\u001B[1;33m\u001B[0m\u001B[0m\n",
      "\u001B[1;32m~\\anaconda3\\envs\\DnDNotebook\\lib\\site-packages\\pandas\\compat\\_optional.py\u001B[0m in \u001B[0;36mimport_optional_dependency\u001B[1;34m(name, extra, raise_on_missing, on_version)\u001B[0m\n\u001B[0;32m    107\u001B[0m     \u001B[1;32mexcept\u001B[0m \u001B[0mImportError\u001B[0m\u001B[1;33m:\u001B[0m\u001B[1;33m\u001B[0m\u001B[1;33m\u001B[0m\u001B[0m\n\u001B[0;32m    108\u001B[0m         \u001B[1;32mif\u001B[0m \u001B[0mraise_on_missing\u001B[0m\u001B[1;33m:\u001B[0m\u001B[1;33m\u001B[0m\u001B[1;33m\u001B[0m\u001B[0m\n\u001B[1;32m--> 109\u001B[1;33m             \u001B[1;32mraise\u001B[0m \u001B[0mImportError\u001B[0m\u001B[1;33m(\u001B[0m\u001B[0mmsg\u001B[0m\u001B[1;33m)\u001B[0m \u001B[1;32mfrom\u001B[0m \u001B[1;32mNone\u001B[0m\u001B[1;33m\u001B[0m\u001B[1;33m\u001B[0m\u001B[0m\n\u001B[0m\u001B[0;32m    110\u001B[0m         \u001B[1;32melse\u001B[0m\u001B[1;33m:\u001B[0m\u001B[1;33m\u001B[0m\u001B[1;33m\u001B[0m\u001B[0m\n\u001B[0;32m    111\u001B[0m             \u001B[1;32mreturn\u001B[0m \u001B[1;32mNone\u001B[0m\u001B[1;33m\u001B[0m\u001B[1;33m\u001B[0m\u001B[0m\n",
      "\u001B[1;31mImportError\u001B[0m: Missing optional dependency 'tabulate'.  Use pip or conda to install tabulate."
     ]
    }
   ],
   "source": [
    "import numpy as np\n",
    "import pandas as pd\n",
    "\n",
    "# Pulling this model from AceCalhoon's answer\n",
    "# https://rpg.stackexchange.com/questions/47172/how-much-damage-does-great-weapon-fighting-add-on-average\n",
    "\n",
    "series = {}\n",
    "for i in range(4, 13, 2):\n",
    "    series[i] = 1 - (2/i)\n",
    "df = pd.DataFrame(series.items(), columns=['Die Type', 'Difference'])\n",
    "df"
   ],
   "metadata": {
    "collapsed": false,
    "pycharm": {
     "name": "#%%\n"
    }
   }
  },
  {
   "cell_type": "markdown",
   "source": [
    "## Code to generate the values"
   ],
   "metadata": {
    "collapsed": false
   }
  },
  {
   "cell_type": "code",
   "execution_count": 5,
   "outputs": [],
   "source": [
    "def gwf_reroll(roll, sides):\n",
    "    \"\"\"\n",
    "    This checks the value of roll and rolls again if a 2 or 1 and returns it.\n",
    "    :param roll: int of roll value\n",
    "    :param sides: int of die side to use.\n",
    "    :return: int of new roll value\n",
    "    \"\"\"\n",
    "    if roll < 3:\n",
    "        return np.random.randint(1, sides + 1)\n",
    "    return roll\n",
    "\n",
    "def hr_add_reroll(roll, sides):\n",
    "    \"\"\"\n",
    "    This checks the value of roll and adds a new roll if it's under a 3.\n",
    "    :param roll: int of roll value\n",
    "    :param sides: int of die side to use\n",
    "    :return: int of new roll value\n",
    "    \"\"\"\n",
    "    if roll < 3:\n",
    "        new_roll = roll + np.random.randint(1, sides + 1)\n",
    "        return new_roll\n",
    "    return roll\n",
    "\n",
    "def hr_higher_reroll(roll, sides):\n",
    "    \"\"\"\n",
    "    This keeps the higher of either the original roll or reroll.\n",
    "    :param roll: int of roll value\n",
    "    :param sides: int of die side to use\n",
    "    :return: int of new roll value\n",
    "    \"\"\"\n",
    "    roll_2 = 0\n",
    "    if roll < 3:\n",
    "        roll_2 = np.random.randint(1, sides + 1)\n",
    "    return max(roll, roll_2)\n",
    "\n",
    "def damage_roll(sides, num_die=1, gwf=False, crit_on=20, reroll_fn=gwf_reroll):\n",
    "    \"\"\"\n",
    "    This rolls a number of die and returns the result, rerolling 1s or 2s if gwf is true.\n",
    "    :param sides: int sided die to use\n",
    "    :param num_die: int number of die\n",
    "    :param gwf: bool to indicate using gwf rerolls\n",
    "    :param crit_on: int of value or above on d20 to become a crit\n",
    "    :param reroll_fn: function to use for any reroll\n",
    "    :return: int of roll total\n",
    "    \"\"\"\n",
    "    # Crits double the number of rolls\n",
    "    is_crit = np.random.randint(1, 21) >= crit_on\n",
    "    num_actual = num_die * 2 if is_crit else num_die\n",
    "\n",
    "    result = 0\n",
    "    for _ in range(num_actual):\n",
    "        roll = np.random.randint(1, sides + 1) # high is exlusive\n",
    "        if gwf:\n",
    "            roll = reroll_fn(roll, sides)\n",
    "        result = roll + result\n",
    "\n",
    "    return result"
   ],
   "metadata": {
    "collapsed": false,
    "pycharm": {
     "name": "#%%\n"
    }
   }
  },
  {
   "cell_type": "markdown",
   "source": [
    "## Running the simulation for various die types."
   ],
   "metadata": {
    "collapsed": false
   }
  },
  {
   "cell_type": "code",
   "execution_count": 6,
   "outputs": [],
   "source": [
    "# Setup a means to generate the full data.\n",
    "def generate_weapon_data(gwf=False, reroll_fn=gwf_reroll):\n",
    "    crit_range = {'Base': 100, '20': 20, '19': 19}\n",
    "    die_range = {\n",
    "        '1d8': (8, 1),\n",
    "        '1d10': (10, 1),\n",
    "        '1d12': (12, 1),\n",
    "        '2d6': (6, 2)}\n",
    "    weapon_data = {}\n",
    "    for cl, cv in crit_range.items():\n",
    "        weapon_data[cl] = {}\n",
    "        for dk, dv in die_range.items():\n",
    "            weapon_data[cl][dk] = pd.Series(damage_roll(dv[0], dv[1], gwf=gwf, crit_on=cv, reroll_fn=reroll_fn) for _ in range(10000)).mean()\n",
    "    return weapon_data"
   ],
   "metadata": {
    "collapsed": false,
    "pycharm": {
     "name": "#%%\n"
    }
   }
  },
  {
   "cell_type": "markdown",
   "source": [
    "### Normal (No GWF)"
   ],
   "metadata": {
    "collapsed": false
   }
  },
  {
   "cell_type": "code",
   "execution_count": 7,
   "outputs": [
    {
     "data": {
      "text/plain": "      Base   20   19\n1d8    4.5  4.7  4.9\n1d10   5.5  5.8  6.0\n1d12   6.5  6.8  7.1\n2d6    7.0  7.4  7.7",
      "text/html": "<div>\n<style scoped>\n    .dataframe tbody tr th:only-of-type {\n        vertical-align: middle;\n    }\n\n    .dataframe tbody tr th {\n        vertical-align: top;\n    }\n\n    .dataframe thead th {\n        text-align: right;\n    }\n</style>\n<table border=\"1\" class=\"dataframe\">\n  <thead>\n    <tr style=\"text-align: right;\">\n      <th></th>\n      <th>Base</th>\n      <th>20</th>\n      <th>19</th>\n    </tr>\n  </thead>\n  <tbody>\n    <tr>\n      <th>1d8</th>\n      <td>4.5</td>\n      <td>4.7</td>\n      <td>4.9</td>\n    </tr>\n    <tr>\n      <th>1d10</th>\n      <td>5.5</td>\n      <td>5.8</td>\n      <td>6.0</td>\n    </tr>\n    <tr>\n      <th>1d12</th>\n      <td>6.5</td>\n      <td>6.8</td>\n      <td>7.1</td>\n    </tr>\n    <tr>\n      <th>2d6</th>\n      <td>7.0</td>\n      <td>7.4</td>\n      <td>7.7</td>\n    </tr>\n  </tbody>\n</table>\n</div>"
     },
     "execution_count": 7,
     "metadata": {},
     "output_type": "execute_result"
    }
   ],
   "source": [
    "normal_df = pd.DataFrame(generate_weapon_data())\n",
    "normal_df.round(1)"
   ],
   "metadata": {
    "collapsed": false,
    "pycharm": {
     "name": "#%%\n"
    }
   }
  },
  {
   "cell_type": "markdown",
   "source": [
    "### With GWF"
   ],
   "metadata": {
    "collapsed": false
   }
  },
  {
   "cell_type": "code",
   "execution_count": 8,
   "outputs": [
    {
     "data": {
      "text/plain": "      Base   20   19\n1d8    5.2  5.5  5.8\n1d10   6.3  6.6  7.0\n1d12   7.4  7.7  8.0\n2d6    8.4  8.7  9.2",
      "text/html": "<div>\n<style scoped>\n    .dataframe tbody tr th:only-of-type {\n        vertical-align: middle;\n    }\n\n    .dataframe tbody tr th {\n        vertical-align: top;\n    }\n\n    .dataframe thead th {\n        text-align: right;\n    }\n</style>\n<table border=\"1\" class=\"dataframe\">\n  <thead>\n    <tr style=\"text-align: right;\">\n      <th></th>\n      <th>Base</th>\n      <th>20</th>\n      <th>19</th>\n    </tr>\n  </thead>\n  <tbody>\n    <tr>\n      <th>1d8</th>\n      <td>5.2</td>\n      <td>5.5</td>\n      <td>5.8</td>\n    </tr>\n    <tr>\n      <th>1d10</th>\n      <td>6.3</td>\n      <td>6.6</td>\n      <td>7.0</td>\n    </tr>\n    <tr>\n      <th>1d12</th>\n      <td>7.4</td>\n      <td>7.7</td>\n      <td>8.0</td>\n    </tr>\n    <tr>\n      <th>2d6</th>\n      <td>8.4</td>\n      <td>8.7</td>\n      <td>9.2</td>\n    </tr>\n  </tbody>\n</table>\n</div>"
     },
     "execution_count": 8,
     "metadata": {},
     "output_type": "execute_result"
    }
   ],
   "source": [
    "gwf_df = pd.DataFrame(generate_weapon_data(gwf=True))\n",
    "gwf_df.round(1)"
   ],
   "metadata": {
    "collapsed": false,
    "pycharm": {
     "name": "#%%\n"
    }
   }
  },
  {
   "cell_type": "markdown",
   "source": [
    "## Various House Rules\n",
    "\n",
    "### Add new roll to previous roll option."
   ],
   "metadata": {
    "collapsed": false
   }
  },
  {
   "cell_type": "code",
   "execution_count": 9,
   "outputs": [
    {
     "data": {
      "text/plain": "      Base   20    19\n1d8    5.6  5.9   6.2\n1d10   6.6  6.9   7.3\n1d12   7.6  8.0   8.4\n2d6    9.3  9.8  10.3",
      "text/html": "<div>\n<style scoped>\n    .dataframe tbody tr th:only-of-type {\n        vertical-align: middle;\n    }\n\n    .dataframe tbody tr th {\n        vertical-align: top;\n    }\n\n    .dataframe thead th {\n        text-align: right;\n    }\n</style>\n<table border=\"1\" class=\"dataframe\">\n  <thead>\n    <tr style=\"text-align: right;\">\n      <th></th>\n      <th>Base</th>\n      <th>20</th>\n      <th>19</th>\n    </tr>\n  </thead>\n  <tbody>\n    <tr>\n      <th>1d8</th>\n      <td>5.6</td>\n      <td>5.9</td>\n      <td>6.2</td>\n    </tr>\n    <tr>\n      <th>1d10</th>\n      <td>6.6</td>\n      <td>6.9</td>\n      <td>7.3</td>\n    </tr>\n    <tr>\n      <th>1d12</th>\n      <td>7.6</td>\n      <td>8.0</td>\n      <td>8.4</td>\n    </tr>\n    <tr>\n      <th>2d6</th>\n      <td>9.3</td>\n      <td>9.8</td>\n      <td>10.3</td>\n    </tr>\n  </tbody>\n</table>\n</div>"
     },
     "execution_count": 9,
     "metadata": {},
     "output_type": "execute_result"
    }
   ],
   "source": [
    "hr_add_df = pd.DataFrame(generate_weapon_data(gwf=True, reroll_fn=hr_add_reroll))\n",
    "hr_add_df.round(1)"
   ],
   "metadata": {
    "collapsed": false,
    "pycharm": {
     "name": "#%%\n"
    }
   }
  },
  {
   "cell_type": "markdown",
   "source": [
    "## Keep the higher of the rolls"
   ],
   "metadata": {
    "collapsed": false
   }
  },
  {
   "cell_type": "code",
   "execution_count": 10,
   "outputs": [
    {
     "data": {
      "text/plain": "      Base   20   19\n1d8    5.3  5.5  5.8\n1d10   6.3  6.6  6.9\n1d12   7.3  7.7  8.1\n2d6    8.4  8.8  9.3",
      "text/html": "<div>\n<style scoped>\n    .dataframe tbody tr th:only-of-type {\n        vertical-align: middle;\n    }\n\n    .dataframe tbody tr th {\n        vertical-align: top;\n    }\n\n    .dataframe thead th {\n        text-align: right;\n    }\n</style>\n<table border=\"1\" class=\"dataframe\">\n  <thead>\n    <tr style=\"text-align: right;\">\n      <th></th>\n      <th>Base</th>\n      <th>20</th>\n      <th>19</th>\n    </tr>\n  </thead>\n  <tbody>\n    <tr>\n      <th>1d8</th>\n      <td>5.3</td>\n      <td>5.5</td>\n      <td>5.8</td>\n    </tr>\n    <tr>\n      <th>1d10</th>\n      <td>6.3</td>\n      <td>6.6</td>\n      <td>6.9</td>\n    </tr>\n    <tr>\n      <th>1d12</th>\n      <td>7.3</td>\n      <td>7.7</td>\n      <td>8.1</td>\n    </tr>\n    <tr>\n      <th>2d6</th>\n      <td>8.4</td>\n      <td>8.8</td>\n      <td>9.3</td>\n    </tr>\n  </tbody>\n</table>\n</div>"
     },
     "execution_count": 10,
     "metadata": {},
     "output_type": "execute_result"
    }
   ],
   "source": [
    "hr_higher_df = pd.DataFrame(generate_weapon_data(gwf=True, reroll_fn=hr_higher_reroll))\n",
    "hr_higher_df.round(1)"
   ],
   "metadata": {
    "collapsed": false,
    "pycharm": {
     "name": "#%%\n"
    }
   }
  }
 ],
 "metadata": {
  "kernelspec": {
   "display_name": "Python 3",
   "language": "python",
   "name": "python3"
  },
  "language_info": {
   "codemirror_mode": {
    "name": "ipython",
    "version": 2
   },
   "file_extension": ".py",
   "mimetype": "text/x-python",
   "name": "python",
   "nbconvert_exporter": "python",
   "pygments_lexer": "ipython2",
   "version": "2.7.6"
  }
 },
 "nbformat": 4,
 "nbformat_minor": 0
}
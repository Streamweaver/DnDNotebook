{
 "cells": [
  {
   "cell_type": "markdown",
   "metadata": {
    "collapsed": true,
    "pycharm": {
     "name": "#%% md\n"
    }
   },
   "source": [
    "# Great Weapon Fighting\n",
    "These are some math examples of the values you get for the Great Weapon Fighting style in 5e D&D\n",
    "which let you reroll 1 or 2 on any weapon damage dice.\n",
    "\n",
    "## Doing Some Math"
   ]
  },
  {
   "cell_type": "code",
   "execution_count": 77,
   "outputs": [
    {
     "data": {
      "text/plain": "   Die Type  Difference\n0         4    0.500000\n1         6    0.666667\n2         8    0.750000\n3        10    0.800000\n4        12    0.833333",
      "text/html": "<div>\n<style scoped>\n    .dataframe tbody tr th:only-of-type {\n        vertical-align: middle;\n    }\n\n    .dataframe tbody tr th {\n        vertical-align: top;\n    }\n\n    .dataframe thead th {\n        text-align: right;\n    }\n</style>\n<table border=\"1\" class=\"dataframe\">\n  <thead>\n    <tr style=\"text-align: right;\">\n      <th></th>\n      <th>Die Type</th>\n      <th>Difference</th>\n    </tr>\n  </thead>\n  <tbody>\n    <tr>\n      <th>0</th>\n      <td>4</td>\n      <td>0.500000</td>\n    </tr>\n    <tr>\n      <th>1</th>\n      <td>6</td>\n      <td>0.666667</td>\n    </tr>\n    <tr>\n      <th>2</th>\n      <td>8</td>\n      <td>0.750000</td>\n    </tr>\n    <tr>\n      <th>3</th>\n      <td>10</td>\n      <td>0.800000</td>\n    </tr>\n    <tr>\n      <th>4</th>\n      <td>12</td>\n      <td>0.833333</td>\n    </tr>\n  </tbody>\n</table>\n</div>"
     },
     "execution_count": 77,
     "metadata": {},
     "output_type": "execute_result"
    }
   ],
   "source": [
    "import numpy as np\n",
    "import pandas as pd\n",
    "\n",
    "# Pulling this model from AceCalhoon's answer\n",
    "# https://rpg.stackexchange.com/questions/47172/how-much-damage-does-great-weapon-fighting-add-on-average\n",
    "\n",
    "series = {}\n",
    "for i in range(4, 13, 2):\n",
    "    series[i] = 1 - (2/i)\n",
    "df = pd.DataFrame(series.items(), columns=['Die Type', 'Difference'])\n",
    "df"
   ],
   "metadata": {
    "collapsed": false,
    "pycharm": {
     "name": "#%%\n"
    }
   }
  },
  {
   "cell_type": "markdown",
   "source": [
    "## Code to generate the values"
   ],
   "metadata": {
    "collapsed": false
   }
  },
  {
   "cell_type": "code",
   "execution_count": 78,
   "outputs": [],
   "source": [
    "def damage_roll(sides, num_die=1, gwf=False, crit_on=20):\n",
    "    \"\"\"\n",
    "    This rolls a number of die and returns the result, rerolling 1s or 2s if gwf is true.\n",
    "    :param sides: int sided die to use\n",
    "    :param num_die: int number of die\n",
    "    :param gwf: bool to indicate using gwf rerolls\n",
    "    :param crit_on: int of value or above on d20 to become a crit.\n",
    "    :return: int of roll total\n",
    "    \"\"\"\n",
    "    # Crits double the number of rolls\n",
    "    is_crit = np.random.randint(1, 21) >= crit_on\n",
    "    num_actual = num_die * 2 if is_crit else num_die\n",
    "\n",
    "    result = 0\n",
    "    for _ in range(num_actual):\n",
    "        roll = np.random.randint(1, sides + 1) # high is exlusive\n",
    "        if gwf and roll < 3:\n",
    "            roll = np.random.randint(1, sides + 1)\n",
    "        result = roll + result\n",
    "\n",
    "    if not is_crit and result > sides * num_die:\n",
    "        print('error')\n",
    "\n",
    "    return result"
   ],
   "metadata": {
    "collapsed": false,
    "pycharm": {
     "name": "#%%\n"
    }
   }
  },
  {
   "cell_type": "markdown",
   "source": [
    "## Running the simulation for various die types."
   ],
   "metadata": {
    "collapsed": false
   }
  },
  {
   "cell_type": "code",
   "execution_count": 79,
   "outputs": [],
   "source": [
    "# Setup a means to generate the full data.\n",
    "def generate_weapon_data(gwf=False):\n",
    "    crit_range = {'Base': 100, '20': 20, '19': 19}\n",
    "    die_range = {'1d8': (8, 1), '1d10': (10, 1), '1d12': (12, 1), '2d6': (6, 2)}\n",
    "    weapon_data = {}\n",
    "    for cl, cv in crit_range.items():\n",
    "        weapon_data[cl] = {}\n",
    "        for dk, dv in die_range.items():\n",
    "            weapon_data[cl][dk] = pd.Series(damage_roll(dv[0], dv[1], gwf=gwf, crit_on=cv) for _ in range(10000)).mean()\n",
    "    return weapon_data"
   ],
   "metadata": {
    "collapsed": false,
    "pycharm": {
     "name": "#%%\n"
    }
   }
  },
  {
   "cell_type": "markdown",
   "source": [
    "### Normal (No GWF)"
   ],
   "metadata": {
    "collapsed": false
   }
  },
  {
   "cell_type": "code",
   "execution_count": 80,
   "outputs": [
    {
     "data": {
      "text/plain": "        Base      20      19\n1d8   4.5202  4.7484  4.9670\n1d10  5.5271  5.8200  6.0459\n1d12  6.4163  6.7893  7.1729\n2d6   6.9722  7.3274  7.7487",
      "text/html": "<div>\n<style scoped>\n    .dataframe tbody tr th:only-of-type {\n        vertical-align: middle;\n    }\n\n    .dataframe tbody tr th {\n        vertical-align: top;\n    }\n\n    .dataframe thead th {\n        text-align: right;\n    }\n</style>\n<table border=\"1\" class=\"dataframe\">\n  <thead>\n    <tr style=\"text-align: right;\">\n      <th></th>\n      <th>Base</th>\n      <th>20</th>\n      <th>19</th>\n    </tr>\n  </thead>\n  <tbody>\n    <tr>\n      <th>1d8</th>\n      <td>4.5202</td>\n      <td>4.7484</td>\n      <td>4.9670</td>\n    </tr>\n    <tr>\n      <th>1d10</th>\n      <td>5.5271</td>\n      <td>5.8200</td>\n      <td>6.0459</td>\n    </tr>\n    <tr>\n      <th>1d12</th>\n      <td>6.4163</td>\n      <td>6.7893</td>\n      <td>7.1729</td>\n    </tr>\n    <tr>\n      <th>2d6</th>\n      <td>6.9722</td>\n      <td>7.3274</td>\n      <td>7.7487</td>\n    </tr>\n  </tbody>\n</table>\n</div>"
     },
     "execution_count": 80,
     "metadata": {},
     "output_type": "execute_result"
    }
   ],
   "source": [
    "normal_df = pd.DataFrame(generate_weapon_data())\n",
    "normal_df"
   ],
   "metadata": {
    "collapsed": false,
    "pycharm": {
     "name": "#%%\n"
    }
   }
  },
  {
   "cell_type": "markdown",
   "source": [
    "### With GWF"
   ],
   "metadata": {
    "collapsed": false
   }
  },
  {
   "cell_type": "code",
   "execution_count": 81,
   "outputs": [
    {
     "data": {
      "text/plain": "        Base      20      19\n1d8   5.2438  5.4589  5.7791\n1d10  6.2585  6.5987  6.9968\n1d12  7.2915  7.8369  8.0611\n2d6   8.3164  8.7306  9.0978",
      "text/html": "<div>\n<style scoped>\n    .dataframe tbody tr th:only-of-type {\n        vertical-align: middle;\n    }\n\n    .dataframe tbody tr th {\n        vertical-align: top;\n    }\n\n    .dataframe thead th {\n        text-align: right;\n    }\n</style>\n<table border=\"1\" class=\"dataframe\">\n  <thead>\n    <tr style=\"text-align: right;\">\n      <th></th>\n      <th>Base</th>\n      <th>20</th>\n      <th>19</th>\n    </tr>\n  </thead>\n  <tbody>\n    <tr>\n      <th>1d8</th>\n      <td>5.2438</td>\n      <td>5.4589</td>\n      <td>5.7791</td>\n    </tr>\n    <tr>\n      <th>1d10</th>\n      <td>6.2585</td>\n      <td>6.5987</td>\n      <td>6.9968</td>\n    </tr>\n    <tr>\n      <th>1d12</th>\n      <td>7.2915</td>\n      <td>7.8369</td>\n      <td>8.0611</td>\n    </tr>\n    <tr>\n      <th>2d6</th>\n      <td>8.3164</td>\n      <td>8.7306</td>\n      <td>9.0978</td>\n    </tr>\n  </tbody>\n</table>\n</div>"
     },
     "execution_count": 81,
     "metadata": {},
     "output_type": "execute_result"
    }
   ],
   "source": [
    "gwf_df = pd.DataFrame(generate_weapon_data(gwf=True))\n",
    "gwf_df"
   ],
   "metadata": {
    "collapsed": false,
    "pycharm": {
     "name": "#%%\n"
    }
   }
  },
  {
   "cell_type": "markdown",
   "source": [
    "## Various House Rules"
   ],
   "metadata": {
    "collapsed": false
   }
  }
 ],
 "metadata": {
  "kernelspec": {
   "display_name": "Python 3",
   "language": "python",
   "name": "python3"
  },
  "language_info": {
   "codemirror_mode": {
    "name": "ipython",
    "version": 2
   },
   "file_extension": ".py",
   "mimetype": "text/x-python",
   "name": "python",
   "nbconvert_exporter": "python",
   "pygments_lexer": "ipython2",
   "version": "2.7.6"
  }
 },
 "nbformat": 4,
 "nbformat_minor": 0
}
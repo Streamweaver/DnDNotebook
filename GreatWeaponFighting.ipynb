{
 "cells": [
  {
   "cell_type": "markdown",
   "metadata": {
    "collapsed": true,
    "pycharm": {
     "name": "#%% md\n"
    }
   },
   "source": [
    "# Great Weapon Fighting\n",
    "These are some math examples of the values you get for the Great Weapon Fighting style in 5e D&D\n",
    "which let you reroll 1 or 2 on any weapon damage dice.\n",
    "\n",
    "## Doing Some Math"
   ]
  },
  {
   "cell_type": "code",
   "execution_count": 43,
   "outputs": [
    {
     "data": {
      "text/plain": "   Die Type  Difference\n0         4    0.500000\n1         6    0.666667\n2         8    0.750000\n3        10    0.800000\n4        12    0.833333",
      "text/html": "<div>\n<style scoped>\n    .dataframe tbody tr th:only-of-type {\n        vertical-align: middle;\n    }\n\n    .dataframe tbody tr th {\n        vertical-align: top;\n    }\n\n    .dataframe thead th {\n        text-align: right;\n    }\n</style>\n<table border=\"1\" class=\"dataframe\">\n  <thead>\n    <tr style=\"text-align: right;\">\n      <th></th>\n      <th>Die Type</th>\n      <th>Difference</th>\n    </tr>\n  </thead>\n  <tbody>\n    <tr>\n      <th>0</th>\n      <td>4</td>\n      <td>0.500000</td>\n    </tr>\n    <tr>\n      <th>1</th>\n      <td>6</td>\n      <td>0.666667</td>\n    </tr>\n    <tr>\n      <th>2</th>\n      <td>8</td>\n      <td>0.750000</td>\n    </tr>\n    <tr>\n      <th>3</th>\n      <td>10</td>\n      <td>0.800000</td>\n    </tr>\n    <tr>\n      <th>4</th>\n      <td>12</td>\n      <td>0.833333</td>\n    </tr>\n  </tbody>\n</table>\n</div>"
     },
     "execution_count": 43,
     "metadata": {},
     "output_type": "execute_result"
    }
   ],
   "source": [
    "import numpy as np\n",
    "import pandas as pd\n",
    "\n",
    "# Pulling this model from AceCalhoon's answer\n",
    "# https://rpg.stackexchange.com/questions/47172/how-much-damage-does-great-weapon-fighting-add-on-average\n",
    "\n",
    "series = {}\n",
    "for i in range(4, 13, 2):\n",
    "    series[i] = 1 - (2/i)\n",
    "df = pd.DataFrame(series.items(), columns=['Die Type', 'Difference'])\n",
    "df"
   ],
   "metadata": {
    "collapsed": false,
    "pycharm": {
     "name": "#%%\n"
    }
   }
  },
  {
   "cell_type": "markdown",
   "source": [
    "## Code to generate the values"
   ],
   "metadata": {
    "collapsed": false
   }
  },
  {
   "cell_type": "code",
   "execution_count": 44,
   "outputs": [],
   "source": [
    "def gwf_reroll(roll, sides):\n",
    "    \"\"\"\n",
    "    This checks the value of roll and rolls again if a 2 or 1 and returns it.\n",
    "    :param roll: int of roll value\n",
    "    :param sides: int of die side to use.\n",
    "    :return: int of new roll value\n",
    "    \"\"\"\n",
    "    if roll < 3:\n",
    "        return np.random.randint(1, sides + 1)\n",
    "    return roll\n",
    "\n",
    "def hr_add_reroll(roll, sides):\n",
    "    \"\"\"\n",
    "    This checks the value of roll and adds a new roll if it's under a 3.\n",
    "    :param roll: int of roll value\n",
    "    :param sides: int of die side to use\n",
    "    :return: int of new roll value\n",
    "    \"\"\"\n",
    "    if roll < 3:\n",
    "        new_roll = roll + np.random.randint(1, sides + 1)\n",
    "        return new_roll\n",
    "    return roll\n",
    "\n",
    "def hr_higher_reroll(roll, sides):\n",
    "    \"\"\"\n",
    "    This keeps the higher of either the original roll or reroll.\n",
    "    :param roll: int of roll value\n",
    "    :param sides: int of die side to use\n",
    "    :return: int of new roll value\n",
    "    \"\"\"\n",
    "    roll_2 = 0\n",
    "    if roll < 3:\n",
    "        roll_2 = np.random.randint(1, sides + 1)\n",
    "    return max(roll, roll_2)\n",
    "\n",
    "def damage_roll(sides, num_die=1, gwf=False, crit_on=20, reroll_fn=gwf_reroll):\n",
    "    \"\"\"\n",
    "    This rolls a number of die and returns the result, rerolling 1s or 2s if gwf is true.\n",
    "    :param sides: int sided die to use\n",
    "    :param num_die: int number of die\n",
    "    :param gwf: bool to indicate using gwf rerolls\n",
    "    :param crit_on: int of value or above on d20 to become a crit\n",
    "    :param reroll_fn: function to use for any reroll\n",
    "    :return: int of roll total\n",
    "    \"\"\"\n",
    "    # Crits double the number of rolls\n",
    "    is_crit = np.random.randint(1, 21) >= crit_on\n",
    "    num_actual = num_die * 2 if is_crit else num_die\n",
    "\n",
    "    result = 0\n",
    "    for _ in range(num_actual):\n",
    "        roll = np.random.randint(1, sides + 1) # high is exlusive\n",
    "        if gwf:\n",
    "            roll = reroll_fn(roll, sides)\n",
    "        result = roll + result\n",
    "\n",
    "    return result"
   ],
   "metadata": {
    "collapsed": false,
    "pycharm": {
     "name": "#%%\n"
    }
   }
  },
  {
   "cell_type": "markdown",
   "source": [
    "## Running the simulation for various die types."
   ],
   "metadata": {
    "collapsed": false
   }
  },
  {
   "cell_type": "code",
   "execution_count": 45,
   "outputs": [],
   "source": [
    "# Setup a means to generate the full data.\n",
    "def generate_weapon_data(gwf=False, reroll_fn=gwf_reroll):\n",
    "    crit_range = {'Base': 100, '20': 20, '19': 19}\n",
    "    die_range = {\n",
    "        '1d8': (8, 1),\n",
    "        '1d10': (10, 1),\n",
    "        '1d12': (12, 1),\n",
    "        '2d6': (6, 2)}\n",
    "    weapon_data = {}\n",
    "    for cl, cv in crit_range.items():\n",
    "        weapon_data[cl] = {}\n",
    "        for dk, dv in die_range.items():\n",
    "            weapon_data[cl][dk] = pd.Series(damage_roll(dv[0], dv[1], gwf=gwf, crit_on=cv, reroll_fn=reroll_fn) for _ in range(10000)).mean()\n",
    "    return weapon_data"
   ],
   "metadata": {
    "collapsed": false,
    "pycharm": {
     "name": "#%%\n"
    }
   }
  },
  {
   "cell_type": "markdown",
   "source": [
    "### Normal (No GWF)"
   ],
   "metadata": {
    "collapsed": false
   }
  },
  {
   "cell_type": "code",
   "execution_count": 46,
   "outputs": [
    {
     "data": {
      "text/plain": "                                                    Base   20   19\nGreatclub, Quarterstaff | 1d8                        4.5  4.7  4.9\nGlaive, Halberd, Longsword, Pike, Warhammer | 1d10   5.5  5.8  6.0\nGreataxe | 1d12                                      6.5  6.9  7.1\nGreatsword, Maul | 2d6                               7.0  7.4  7.6",
      "text/html": "<div>\n<style scoped>\n    .dataframe tbody tr th:only-of-type {\n        vertical-align: middle;\n    }\n\n    .dataframe tbody tr th {\n        vertical-align: top;\n    }\n\n    .dataframe thead th {\n        text-align: right;\n    }\n</style>\n<table border=\"1\" class=\"dataframe\">\n  <thead>\n    <tr style=\"text-align: right;\">\n      <th></th>\n      <th>Base</th>\n      <th>20</th>\n      <th>19</th>\n    </tr>\n  </thead>\n  <tbody>\n    <tr>\n      <th>Greatclub, Quarterstaff | 1d8</th>\n      <td>4.5</td>\n      <td>4.7</td>\n      <td>4.9</td>\n    </tr>\n    <tr>\n      <th>Glaive, Halberd, Longsword, Pike, Warhammer | 1d10</th>\n      <td>5.5</td>\n      <td>5.8</td>\n      <td>6.0</td>\n    </tr>\n    <tr>\n      <th>Greataxe | 1d12</th>\n      <td>6.5</td>\n      <td>6.9</td>\n      <td>7.1</td>\n    </tr>\n    <tr>\n      <th>Greatsword, Maul | 2d6</th>\n      <td>7.0</td>\n      <td>7.4</td>\n      <td>7.6</td>\n    </tr>\n  </tbody>\n</table>\n</div>"
     },
     "execution_count": 46,
     "metadata": {},
     "output_type": "execute_result"
    }
   ],
   "source": [
    "normal_df = pd.DataFrame(generate_weapon_data())\n",
    "normal_df.round(1)"
   ],
   "metadata": {
    "collapsed": false,
    "pycharm": {
     "name": "#%%\n"
    }
   }
  },
  {
   "cell_type": "markdown",
   "source": [
    "### With GWF"
   ],
   "metadata": {
    "collapsed": false
   }
  },
  {
   "cell_type": "code",
   "execution_count": 47,
   "outputs": [
    {
     "data": {
      "text/plain": "                                                    Base   20   19\nGreatclub, Quarterstaff | 1d8                        5.2  5.5  5.8\nGlaive, Halberd, Longsword, Pike, Warhammer | 1d10   6.3  6.6  6.9\nGreataxe | 1d12                                      7.3  7.7  8.1\nGreatsword, Maul | 2d6                               8.3  8.7  9.2",
      "text/html": "<div>\n<style scoped>\n    .dataframe tbody tr th:only-of-type {\n        vertical-align: middle;\n    }\n\n    .dataframe tbody tr th {\n        vertical-align: top;\n    }\n\n    .dataframe thead th {\n        text-align: right;\n    }\n</style>\n<table border=\"1\" class=\"dataframe\">\n  <thead>\n    <tr style=\"text-align: right;\">\n      <th></th>\n      <th>Base</th>\n      <th>20</th>\n      <th>19</th>\n    </tr>\n  </thead>\n  <tbody>\n    <tr>\n      <th>Greatclub, Quarterstaff | 1d8</th>\n      <td>5.2</td>\n      <td>5.5</td>\n      <td>5.8</td>\n    </tr>\n    <tr>\n      <th>Glaive, Halberd, Longsword, Pike, Warhammer | 1d10</th>\n      <td>6.3</td>\n      <td>6.6</td>\n      <td>6.9</td>\n    </tr>\n    <tr>\n      <th>Greataxe | 1d12</th>\n      <td>7.3</td>\n      <td>7.7</td>\n      <td>8.1</td>\n    </tr>\n    <tr>\n      <th>Greatsword, Maul | 2d6</th>\n      <td>8.3</td>\n      <td>8.7</td>\n      <td>9.2</td>\n    </tr>\n  </tbody>\n</table>\n</div>"
     },
     "execution_count": 47,
     "metadata": {},
     "output_type": "execute_result"
    }
   ],
   "source": [
    "gwf_df = pd.DataFrame(generate_weapon_data(gwf=True))\n",
    "gwf_df.round(1)"
   ],
   "metadata": {
    "collapsed": false,
    "pycharm": {
     "name": "#%%\n"
    }
   }
  },
  {
   "cell_type": "markdown",
   "source": [
    "## Various House Rules\n",
    "\n",
    "### Add new roll to previous roll option."
   ],
   "metadata": {
    "collapsed": false
   }
  },
  {
   "cell_type": "code",
   "execution_count": 48,
   "outputs": [
    {
     "data": {
      "text/plain": "                                                    Base   20    19\nGreatclub, Quarterstaff | 1d8                        5.6  5.9   6.2\nGlaive, Halberd, Longsword, Pike, Warhammer | 1d10   6.6  7.0   7.3\nGreataxe | 1d12                                      7.6  7.9   8.3\nGreatsword, Maul | 2d6                               9.3  9.8  10.3",
      "text/html": "<div>\n<style scoped>\n    .dataframe tbody tr th:only-of-type {\n        vertical-align: middle;\n    }\n\n    .dataframe tbody tr th {\n        vertical-align: top;\n    }\n\n    .dataframe thead th {\n        text-align: right;\n    }\n</style>\n<table border=\"1\" class=\"dataframe\">\n  <thead>\n    <tr style=\"text-align: right;\">\n      <th></th>\n      <th>Base</th>\n      <th>20</th>\n      <th>19</th>\n    </tr>\n  </thead>\n  <tbody>\n    <tr>\n      <th>Greatclub, Quarterstaff | 1d8</th>\n      <td>5.6</td>\n      <td>5.9</td>\n      <td>6.2</td>\n    </tr>\n    <tr>\n      <th>Glaive, Halberd, Longsword, Pike, Warhammer | 1d10</th>\n      <td>6.6</td>\n      <td>7.0</td>\n      <td>7.3</td>\n    </tr>\n    <tr>\n      <th>Greataxe | 1d12</th>\n      <td>7.6</td>\n      <td>7.9</td>\n      <td>8.3</td>\n    </tr>\n    <tr>\n      <th>Greatsword, Maul | 2d6</th>\n      <td>9.3</td>\n      <td>9.8</td>\n      <td>10.3</td>\n    </tr>\n  </tbody>\n</table>\n</div>"
     },
     "execution_count": 48,
     "metadata": {},
     "output_type": "execute_result"
    }
   ],
   "source": [
    "hr_add_df = pd.DataFrame(generate_weapon_data(gwf=True, reroll_fn=hr_add_reroll))\n",
    "hr_add_df.round(1)"
   ],
   "metadata": {
    "collapsed": false,
    "pycharm": {
     "name": "#%%\n"
    }
   }
  },
  {
   "cell_type": "markdown",
   "source": [
    "## Keep the higher of the rolls"
   ],
   "metadata": {
    "collapsed": false
   }
  },
  {
   "cell_type": "code",
   "execution_count": 49,
   "outputs": [
    {
     "data": {
      "text/plain": "                                                    Base   20   19\nGreatclub, Quarterstaff | 1d8                        5.2  5.5  5.8\nGlaive, Halberd, Longsword, Pike, Warhammer | 1d10   6.3  6.6  7.0\nGreataxe | 1d12                                      7.4  7.7  8.0\nGreatsword, Maul | 2d6                               8.4  8.8  9.3",
      "text/html": "<div>\n<style scoped>\n    .dataframe tbody tr th:only-of-type {\n        vertical-align: middle;\n    }\n\n    .dataframe tbody tr th {\n        vertical-align: top;\n    }\n\n    .dataframe thead th {\n        text-align: right;\n    }\n</style>\n<table border=\"1\" class=\"dataframe\">\n  <thead>\n    <tr style=\"text-align: right;\">\n      <th></th>\n      <th>Base</th>\n      <th>20</th>\n      <th>19</th>\n    </tr>\n  </thead>\n  <tbody>\n    <tr>\n      <th>Greatclub, Quarterstaff | 1d8</th>\n      <td>5.2</td>\n      <td>5.5</td>\n      <td>5.8</td>\n    </tr>\n    <tr>\n      <th>Glaive, Halberd, Longsword, Pike, Warhammer | 1d10</th>\n      <td>6.3</td>\n      <td>6.6</td>\n      <td>7.0</td>\n    </tr>\n    <tr>\n      <th>Greataxe | 1d12</th>\n      <td>7.4</td>\n      <td>7.7</td>\n      <td>8.0</td>\n    </tr>\n    <tr>\n      <th>Greatsword, Maul | 2d6</th>\n      <td>8.4</td>\n      <td>8.8</td>\n      <td>9.3</td>\n    </tr>\n  </tbody>\n</table>\n</div>"
     },
     "execution_count": 49,
     "metadata": {},
     "output_type": "execute_result"
    }
   ],
   "source": [
    "hr_higher_df = pd.DataFrame(generate_weapon_data(gwf=True, reroll_fn=hr_higher_reroll))\n",
    "hr_higher_df.round(1)"
   ],
   "metadata": {
    "collapsed": false,
    "pycharm": {
     "name": "#%%\n"
    }
   }
  }
 ],
 "metadata": {
  "kernelspec": {
   "display_name": "Python 3",
   "language": "python",
   "name": "python3"
  },
  "language_info": {
   "codemirror_mode": {
    "name": "ipython",
    "version": 2
   },
   "file_extension": ".py",
   "mimetype": "text/x-python",
   "name": "python",
   "nbconvert_exporter": "python",
   "pygments_lexer": "ipython2",
   "version": "2.7.6"
  }
 },
 "nbformat": 4,
 "nbformat_minor": 0
}
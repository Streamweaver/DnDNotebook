{
 "cells": [
  {
   "cell_type": "code",
   "execution_count": 15,
   "metadata": {
    "collapsed": true
   },
   "outputs": [],
   "source": [
    "import pandas as pd\n",
    "import numpy as np"
   ]
  },
  {
   "cell_type": "markdown",
   "source": [
    "# Ability Score Generation Methods"
   ],
   "metadata": {
    "collapsed": false
   }
  },
  {
   "cell_type": "markdown",
   "source": [
    "What follows are comparisons of various ability score generation mechaisms."
   ],
   "metadata": {
    "collapsed": false
   }
  },
  {
   "cell_type": "code",
   "execution_count": 16,
   "outputs": [
    {
     "data": {
      "text/plain": "13    13199\n12    12819\n14    12384\n11    11389\n15    10232\n10     9570\n16     7159\n9      7055\n8      4751\n17     4209\n7      2946\n18     1628\n6      1543\n5       756\n4       288\n3        72\ndtype: int64"
     },
     "execution_count": 16,
     "metadata": {},
     "output_type": "execute_result"
    }
   ],
   "source": [
    "def xd(n, min=1, max= 6):\n",
    "    return [np.random.randint(min, max+1) for _ in range(n)]\n",
    "drop_lowest_4d4 = pd.Series([np.sum(sorted(xd(4), reverse=True)[:3]) for _ in range(100_000)])\n",
    "drop_lowest_4d4.value_counts()"
   ],
   "metadata": {
    "collapsed": false,
    "pycharm": {
     "name": "#%%\n"
    }
   }
  },
  {
   "cell_type": "code",
   "execution_count": 17,
   "outputs": [
    {
     "data": {
      "text/plain": "[11, 11, 10, 11, 14, 11]"
     },
     "execution_count": 17,
     "metadata": {},
     "output_type": "execute_result"
    }
   ],
   "source": [
    "stats = [np.sum(xd(3, 1, 5)) + 3 for _ in range(6)]\n",
    "stats"
   ],
   "metadata": {
    "collapsed": false,
    "pycharm": {
     "name": "#%%\n"
    }
   }
  },
  {
   "cell_type": "markdown",
   "source": [
    "## 3d6 Seven Times"
   ],
   "metadata": {
    "collapsed": false
   }
  },
  {
   "cell_type": "code",
   "execution_count": 19,
   "outputs": [
    {
     "data": {
      "text/plain": "11    0.144088\n10    0.141345\n12    0.135320\n9     0.120953\n13    0.113730\n8     0.085253\n14    0.080683\n15    0.053622\n7     0.044690\n16    0.032905\n6     0.018630\n17    0.016542\n5     0.005795\n18    0.005375\n4     0.000997\n3     0.000072\ndtype: float64"
     },
     "execution_count": 19,
     "metadata": {},
     "output_type": "execute_result"
    }
   ],
   "source": [
    "series_result = []\n",
    "for _ in range(100_000):\n",
    "    roll = [np.sum(xd(3)) for _ in range(7)]\n",
    "    series_result.extend(sorted(roll, reverse=True)[:6])\n",
    "sr = pd.Series(series_result)\n",
    "sr.value_counts(normalize=True)"
   ],
   "metadata": {
    "collapsed": false,
    "pycharm": {
     "name": "#%%\n"
    }
   }
  }
 ],
 "metadata": {
  "kernelspec": {
   "display_name": "Python 3",
   "language": "python",
   "name": "python3"
  },
  "language_info": {
   "codemirror_mode": {
    "name": "ipython",
    "version": 2
   },
   "file_extension": ".py",
   "mimetype": "text/x-python",
   "name": "python",
   "nbconvert_exporter": "python",
   "pygments_lexer": "ipython2",
   "version": "2.7.6"
  }
 },
 "nbformat": 4,
 "nbformat_minor": 0
}
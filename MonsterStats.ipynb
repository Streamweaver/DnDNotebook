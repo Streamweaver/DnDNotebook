{
 "cells": [
  {
   "cell_type": "code",
   "execution_count": 23,
   "metadata": {},
   "outputs": [
    {
     "data": {
      "text/plain": "             page         str         dex         con         int         wis  \\\ncount  450.000000  450.000000  450.000000  450.000000  450.000000  450.000000   \nmean   211.455556   14.737778   12.935556   14.915556    8.606667   11.735556   \nstd    103.802404    6.530562    3.196299    4.298130    5.559834    2.925021   \nmin     12.000000    1.000000    1.000000    3.000000    1.000000    1.000000   \n25%    120.250000   10.250000   11.000000   12.000000    3.000000   10.000000   \n50%    222.500000   16.000000   13.000000   14.000000    9.000000   12.000000   \n75%    318.000000   18.000000   15.000000   17.000000   13.000000   13.000000   \nmax    350.000000   30.000000   28.000000   30.000000   25.000000   25.000000   \n\n              cha     passive  hp.average  speed.swim  speed.climb  \\\ncount  450.000000  450.000000  450.000000   74.000000    47.000000   \nmean    10.211111   12.773333   77.606667   37.702703    29.255319   \nstd      5.591702    3.768017   89.990984   12.985482     9.439667   \nmin      1.000000    5.000000    1.000000   10.000000     5.000000   \n25%      6.000000   10.000000   19.000000   30.000000    20.000000   \n50%     10.000000   12.000000   49.000000   40.000000    30.000000   \n75%     15.000000   14.000000  104.750000   40.000000    40.000000   \nmax     30.000000   27.000000  676.000000   90.000000    40.000000   \n\n       speed.burrow  \ncount     25.000000  \nmean      24.200000  \nstd       11.150486  \nmin        5.000000  \n25%       15.000000  \n50%       20.000000  \n75%       30.000000  \nmax       40.000000  ",
      "text/html": "<div>\n<style scoped>\n    .dataframe tbody tr th:only-of-type {\n        vertical-align: middle;\n    }\n\n    .dataframe tbody tr th {\n        vertical-align: top;\n    }\n\n    .dataframe thead th {\n        text-align: right;\n    }\n</style>\n<table border=\"1\" class=\"dataframe\">\n  <thead>\n    <tr style=\"text-align: right;\">\n      <th></th>\n      <th>page</th>\n      <th>str</th>\n      <th>dex</th>\n      <th>con</th>\n      <th>int</th>\n      <th>wis</th>\n      <th>cha</th>\n      <th>passive</th>\n      <th>hp.average</th>\n      <th>speed.swim</th>\n      <th>speed.climb</th>\n      <th>speed.burrow</th>\n    </tr>\n  </thead>\n  <tbody>\n    <tr>\n      <th>count</th>\n      <td>450.000000</td>\n      <td>450.000000</td>\n      <td>450.000000</td>\n      <td>450.000000</td>\n      <td>450.000000</td>\n      <td>450.000000</td>\n      <td>450.000000</td>\n      <td>450.000000</td>\n      <td>450.000000</td>\n      <td>74.000000</td>\n      <td>47.000000</td>\n      <td>25.000000</td>\n    </tr>\n    <tr>\n      <th>mean</th>\n      <td>211.455556</td>\n      <td>14.737778</td>\n      <td>12.935556</td>\n      <td>14.915556</td>\n      <td>8.606667</td>\n      <td>11.735556</td>\n      <td>10.211111</td>\n      <td>12.773333</td>\n      <td>77.606667</td>\n      <td>37.702703</td>\n      <td>29.255319</td>\n      <td>24.200000</td>\n    </tr>\n    <tr>\n      <th>std</th>\n      <td>103.802404</td>\n      <td>6.530562</td>\n      <td>3.196299</td>\n      <td>4.298130</td>\n      <td>5.559834</td>\n      <td>2.925021</td>\n      <td>5.591702</td>\n      <td>3.768017</td>\n      <td>89.990984</td>\n      <td>12.985482</td>\n      <td>9.439667</td>\n      <td>11.150486</td>\n    </tr>\n    <tr>\n      <th>min</th>\n      <td>12.000000</td>\n      <td>1.000000</td>\n      <td>1.000000</td>\n      <td>3.000000</td>\n      <td>1.000000</td>\n      <td>1.000000</td>\n      <td>1.000000</td>\n      <td>5.000000</td>\n      <td>1.000000</td>\n      <td>10.000000</td>\n      <td>5.000000</td>\n      <td>5.000000</td>\n    </tr>\n    <tr>\n      <th>25%</th>\n      <td>120.250000</td>\n      <td>10.250000</td>\n      <td>11.000000</td>\n      <td>12.000000</td>\n      <td>3.000000</td>\n      <td>10.000000</td>\n      <td>6.000000</td>\n      <td>10.000000</td>\n      <td>19.000000</td>\n      <td>30.000000</td>\n      <td>20.000000</td>\n      <td>15.000000</td>\n    </tr>\n    <tr>\n      <th>50%</th>\n      <td>222.500000</td>\n      <td>16.000000</td>\n      <td>13.000000</td>\n      <td>14.000000</td>\n      <td>9.000000</td>\n      <td>12.000000</td>\n      <td>10.000000</td>\n      <td>12.000000</td>\n      <td>49.000000</td>\n      <td>40.000000</td>\n      <td>30.000000</td>\n      <td>20.000000</td>\n    </tr>\n    <tr>\n      <th>75%</th>\n      <td>318.000000</td>\n      <td>18.000000</td>\n      <td>15.000000</td>\n      <td>17.000000</td>\n      <td>13.000000</td>\n      <td>13.000000</td>\n      <td>15.000000</td>\n      <td>14.000000</td>\n      <td>104.750000</td>\n      <td>40.000000</td>\n      <td>40.000000</td>\n      <td>30.000000</td>\n    </tr>\n    <tr>\n      <th>max</th>\n      <td>350.000000</td>\n      <td>30.000000</td>\n      <td>28.000000</td>\n      <td>30.000000</td>\n      <td>25.000000</td>\n      <td>25.000000</td>\n      <td>30.000000</td>\n      <td>27.000000</td>\n      <td>676.000000</td>\n      <td>90.000000</td>\n      <td>40.000000</td>\n      <td>40.000000</td>\n    </tr>\n  </tbody>\n</table>\n</div>"
     },
     "execution_count": 23,
     "metadata": {},
     "output_type": "execute_result"
    }
   ],
   "source": [
    "import pandas as pd\n",
    "import numpy as np\n",
    "import json\n",
    "\n",
    "with open('dnd_data/bestiary/bestiary-mm.json') as f:\n",
    "    data = json.load(f) \n",
    "mm = pd.json_normalize(data, 'monster', max_level=1, errors='ignore')\n",
    "mm.describe()"
   ]
  },
  {
   "cell_type": "code",
   "execution_count": 26,
   "metadata": {},
   "outputs": [
    {
     "data": {
      "text/plain": "18    49\n16    38\n15    34\n17    31\n10    29\n19    27\n12    19\n14    19\n3     18\n11    18\n13    18\n23    16\n20    14\n6     12\n8     11\n21    10\n1     10\n2     10\n22     9\n7      8\n27     8\n5      7\n25     7\n30     6\n4      5\n24     5\n26     4\n9      3\n29     3\n28     2\nName: str, dtype: int64"
     },
     "execution_count": 26,
     "metadata": {},
     "output_type": "execute_result"
    }
   ],
   "source": [
    "mm['str'].value_counts()\n"
   ]
  },
  {
   "cell_type": "code",
   "execution_count": 30,
   "metadata": {},
   "outputs": [
    {
     "data": {
      "text/plain": "0                     Aarakocra\n1                       Aboleth\n2               Abominable Yeti\n3                       Acolyte\n4            Adult Black Dragon\n                 ...           \n445    Yuan-Ti Malison (Type 1)\n446    Yuan-Ti Malison (Type 2)\n447    Yuan-Ti Malison (Type 3)\n448           Yuan-Ti Pureblood\n449                      Zombie\nName: name, Length: 450, dtype: object"
     },
     "execution_count": 30,
     "metadata": {},
     "output_type": "execute_result"
    }
   ],
   "source": [
    "mm['name'].str.title()"
   ]
  },
  {
   "cell_type": "code",
   "execution_count": null,
   "outputs": [],
   "source": [],
   "metadata": {
    "collapsed": false,
    "pycharm": {
     "name": "#%%\n"
    }
   }
  }
 ],
 "metadata": {
  "kernelspec": {
   "display_name": "Python 3",
   "language": "python",
   "name": "python3"
  },
  "language_info": {
   "codemirror_mode": {
    "name": "ipython",
    "version": 3
   },
   "file_extension": ".py",
   "mimetype": "text/x-python",
   "name": "python",
   "nbconvert_exporter": "python",
   "pygments_lexer": "ipython3",
   "version": "3.9.5"
  }
 },
 "nbformat": 4,
 "nbformat_minor": 1
}
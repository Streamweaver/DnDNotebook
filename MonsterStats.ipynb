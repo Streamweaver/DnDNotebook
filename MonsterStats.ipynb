{
 "cells": [
  {
   "cell_type": "code",
   "execution_count": 58,
   "metadata": {},
   "outputs": [],
   "source": [
    "import pandas as pd\n",
    "import numpy as np\n",
    "import json"
   ]
  },
  {
   "cell_type": "code",
   "execution_count": 59,
   "outputs": [],
   "source": [
    "def update_ac(ac):\n",
    "    \"\"\"\n",
    "    returns the ac key value if it's a dict or first value if a list.\n",
    "    :param ac:\n",
    "    :return:\n",
    "    \"\"\"\n",
    "    if isinstance(ac[0], dict):\n",
    "        return ac[0]['ac']\n",
    "    return ac[0]"
   ],
   "metadata": {
    "collapsed": false,
    "pycharm": {
     "name": "#%%\n"
    }
   }
  },
  {
   "cell_type": "code",
   "execution_count": 60,
   "outputs": [],
   "source": [
    "with open('dnd_data/bestiary/bestiary-mm.json') as f:\n",
    "    data = json.load(f) \n",
    "mm = pd.json_normalize(data, 'monster', max_level=1, errors='ignore')\n",
    "mm['ac'] = mm['ac'].apply(update_ac)"
   ],
   "metadata": {
    "collapsed": false,
    "pycharm": {
     "name": "#%%\n"
    }
   }
  },
  {
   "cell_type": "code",
   "execution_count": 61,
   "outputs": [
    {
     "data": {
      "text/plain": "                    name  str  dex  con  int  wis  cha  ac  hp.average   srd\n1                Aboleth   21    9   15   18   15   18  17         135  True\n3                Acolyte   10   10   10   10   14   11  10           9  True\n4     Adult Black Dragon   23   14   21   14   13   17  19         195  True\n6      Adult Blue Dragon   25   10   23   16   15   19  19         225  True\n7     Adult Brass Dragon   23   10   21   14   13   17  18         172  True\n..                   ...  ...  ...  ...  ...  ...  ...  ..         ...   ...\n438   Young Green Dragon   19   12   17   16   13   15  18         136  True\n439     Young Red Dragon   23   10   21   14   11   19  18         178  True\n442  Young Silver Dragon   23   10   21   14   11   19  18         168  True\n443   Young White Dragon   18   10   18    6   11   12  17         133  True\n449               Zombie   13    6   16    3    6    5   8          22  True\n\n[323 rows x 10 columns]",
      "text/html": "<div>\n<style scoped>\n    .dataframe tbody tr th:only-of-type {\n        vertical-align: middle;\n    }\n\n    .dataframe tbody tr th {\n        vertical-align: top;\n    }\n\n    .dataframe thead th {\n        text-align: right;\n    }\n</style>\n<table border=\"1\" class=\"dataframe\">\n  <thead>\n    <tr style=\"text-align: right;\">\n      <th></th>\n      <th>name</th>\n      <th>str</th>\n      <th>dex</th>\n      <th>con</th>\n      <th>int</th>\n      <th>wis</th>\n      <th>cha</th>\n      <th>ac</th>\n      <th>hp.average</th>\n      <th>srd</th>\n    </tr>\n  </thead>\n  <tbody>\n    <tr>\n      <th>1</th>\n      <td>Aboleth</td>\n      <td>21</td>\n      <td>9</td>\n      <td>15</td>\n      <td>18</td>\n      <td>15</td>\n      <td>18</td>\n      <td>17</td>\n      <td>135</td>\n      <td>True</td>\n    </tr>\n    <tr>\n      <th>3</th>\n      <td>Acolyte</td>\n      <td>10</td>\n      <td>10</td>\n      <td>10</td>\n      <td>10</td>\n      <td>14</td>\n      <td>11</td>\n      <td>10</td>\n      <td>9</td>\n      <td>True</td>\n    </tr>\n    <tr>\n      <th>4</th>\n      <td>Adult Black Dragon</td>\n      <td>23</td>\n      <td>14</td>\n      <td>21</td>\n      <td>14</td>\n      <td>13</td>\n      <td>17</td>\n      <td>19</td>\n      <td>195</td>\n      <td>True</td>\n    </tr>\n    <tr>\n      <th>6</th>\n      <td>Adult Blue Dragon</td>\n      <td>25</td>\n      <td>10</td>\n      <td>23</td>\n      <td>16</td>\n      <td>15</td>\n      <td>19</td>\n      <td>19</td>\n      <td>225</td>\n      <td>True</td>\n    </tr>\n    <tr>\n      <th>7</th>\n      <td>Adult Brass Dragon</td>\n      <td>23</td>\n      <td>10</td>\n      <td>21</td>\n      <td>14</td>\n      <td>13</td>\n      <td>17</td>\n      <td>18</td>\n      <td>172</td>\n      <td>True</td>\n    </tr>\n    <tr>\n      <th>...</th>\n      <td>...</td>\n      <td>...</td>\n      <td>...</td>\n      <td>...</td>\n      <td>...</td>\n      <td>...</td>\n      <td>...</td>\n      <td>...</td>\n      <td>...</td>\n      <td>...</td>\n    </tr>\n    <tr>\n      <th>438</th>\n      <td>Young Green Dragon</td>\n      <td>19</td>\n      <td>12</td>\n      <td>17</td>\n      <td>16</td>\n      <td>13</td>\n      <td>15</td>\n      <td>18</td>\n      <td>136</td>\n      <td>True</td>\n    </tr>\n    <tr>\n      <th>439</th>\n      <td>Young Red Dragon</td>\n      <td>23</td>\n      <td>10</td>\n      <td>21</td>\n      <td>14</td>\n      <td>11</td>\n      <td>19</td>\n      <td>18</td>\n      <td>178</td>\n      <td>True</td>\n    </tr>\n    <tr>\n      <th>442</th>\n      <td>Young Silver Dragon</td>\n      <td>23</td>\n      <td>10</td>\n      <td>21</td>\n      <td>14</td>\n      <td>11</td>\n      <td>19</td>\n      <td>18</td>\n      <td>168</td>\n      <td>True</td>\n    </tr>\n    <tr>\n      <th>443</th>\n      <td>Young White Dragon</td>\n      <td>18</td>\n      <td>10</td>\n      <td>18</td>\n      <td>6</td>\n      <td>11</td>\n      <td>12</td>\n      <td>17</td>\n      <td>133</td>\n      <td>True</td>\n    </tr>\n    <tr>\n      <th>449</th>\n      <td>Zombie</td>\n      <td>13</td>\n      <td>6</td>\n      <td>16</td>\n      <td>3</td>\n      <td>6</td>\n      <td>5</td>\n      <td>8</td>\n      <td>22</td>\n      <td>True</td>\n    </tr>\n  </tbody>\n</table>\n<p>323 rows × 10 columns</p>\n</div>"
     },
     "execution_count": 61,
     "metadata": {},
     "output_type": "execute_result"
    }
   ],
   "source": [
    "columns = ['name', 'str', 'dex', 'con', 'int', 'wis', 'cha', 'ac', 'hp.average', 'srd']\n",
    "srd_list = mm[columns]\n",
    "srd_list = srd_list[srd_list['srd'] == True]\n",
    "srd_list"
   ],
   "metadata": {
    "collapsed": false,
    "pycharm": {
     "name": "#%%\n"
    }
   }
  },
  {
   "cell_type": "code",
   "execution_count": 61,
   "metadata": {
    "pycharm": {
     "name": "#%%\n"
    }
   },
   "outputs": [],
   "source": []
  }
 ],
 "metadata": {
  "kernelspec": {
   "display_name": "Python 3",
   "language": "python",
   "name": "python3"
  },
  "language_info": {
   "codemirror_mode": {
    "name": "ipython",
    "version": 3
   },
   "file_extension": ".py",
   "mimetype": "text/x-python",
   "name": "python",
   "nbconvert_exporter": "python",
   "pygments_lexer": "ipython3",
   "version": "3.9.5"
  }
 },
 "nbformat": 4,
 "nbformat_minor": 1
}
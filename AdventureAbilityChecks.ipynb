{
 "cells": [
  {
   "cell_type": "markdown",
   "metadata": {},
   "source": [
    "These scripts parses text looking for ability and skill checks and their DC."
   ]
  },
  {
   "cell_type": "code",
   "execution_count": 2,
   "metadata": {},
   "outputs": [],
   "source": [
    "import re, csv\n",
    "import numpy as np\n",
    "import pandas as pd\n",
    "import matplotlib.pyplot as plt"
   ]
  },
  {
   "cell_type": "code",
   "execution_count": 3,
   "metadata": {},
   "outputs": [],
   "source": [
    "class AdventureParser:\n",
    "\n",
    "    skill_pattern = re.compile(r\"\\bDC\\s+(\\b\\d+\\b)\\s+\\b(Strength|Dexterity|Constitution|Wisdom|Intelligence|Charisma)\\s+\\((.+?)\\)\")\n",
    "    save_pattern = re.compile(r\"\\bDC\\s+(\\b\\d+\\b)\\s+\\b(Strength|Dexterity|Constitution|Wisdom|Intelligence|Charisma)\\s+?saving throw\\b\")\n",
    "\n",
    "    def __init__(self, filename, adventure_name):\n",
    "        self.adventure_name = adventure_name\n",
    "        self.filename = filename\n",
    "        self.skill_checks = []\n",
    "        self.saving_throws = []\n",
    "        self.skill_data = {}\n",
    "        self.save_data = {}\n",
    "        self.find_skill_checks()\n",
    "        self.find_saving_throws()\n",
    "        self.skill_data = self.prepare_data(self.skill_checks)\n",
    "        self.save_data = self.prepare_data(self.saving_throws)\n",
    "\n",
    "    def find_skill_checks(self):\n",
    "        text = \"\"\n",
    "        with open(self.filename, \"r\", encoding=\"utf-8\") as textfile:\n",
    "            text = ' '.join(textfile.readlines()).replace('\\n', '')\n",
    "        for match in self.skill_pattern.finditer(text):\n",
    "            d = {\n",
    "                'DC': int(match.group(1)),\n",
    "                'Ability': match.group(2),\n",
    "            }\n",
    "            try:\n",
    "                d['Skill'] = match.group(3)\n",
    "            except IndexError:\n",
    "                d['Skill'] = None\n",
    "            self.skill_checks.append(d)\n",
    "\n",
    "    def find_saving_throws(self):\n",
    "        text = \"\"\n",
    "        with open(self.filename, \"r\", encoding=\"utf-8\") as textfile:\n",
    "            text = ' '.join(textfile.readlines()).replace('\\n', '')\n",
    "        for match in self.save_pattern.finditer(text):\n",
    "            d = {\n",
    "                'DC': int(match.group(1)),\n",
    "                'Ability': match.group(2),\n",
    "            }\n",
    "            self.saveing_throws.append(d)\n",
    "    \n",
    "    def prepare_data(data):\n",
    "        dc_set = sorted(list(set([item['DC'] for item in data])))\n",
    "        ability_set = sorted(list(set([item['Ability'] for item in data])))\n",
    "\n",
    "        dc_count = {}\n",
    "        for dc in dc_set:\n",
    "            dc_count[dc] = [item['DC'] for item in data].count(dc)\n",
    "\n",
    "        ability_count = {}\n",
    "        for ability in ability_set:\n",
    "            ability_count[ability] = [item['Ability'] for item in data].count(ability)\n",
    "\n",
    "        ability_data = {}\n",
    "        for ability in ability_set:\n",
    "            ability_data[ability] = [item['DC'] for item in data if item['Ability'] == ability]\n",
    "        \n",
    "        return {\n",
    "            'dc_set': dc_set,\n",
    "            'ability_set': ability_set,\n",
    "            'dc_count': dc_count, \n",
    "            'ability_count': ability_count, \n",
    "            'ability_data': ability_data}"
   ]
  },
  {
   "cell_type": "code",
   "execution_count": 7,
   "metadata": {},
   "outputs": [],
   "source": [
    "# with open('dnd_data/rawmodules/wbtw_skills.csv', 'w', newline='') as f:\n",
    "#     writer = csv.writer(f)\n",
    "#     writer.writerow(['Ability',] + skill_data['dc_set'])\n",
    "#     for ability in skill_data['ability_set']:\n",
    "#         ln = [ability,] + [skill_data['ability_data'][ability].count(dc) for dc in skill_data['dc_set']]\n",
    "#         writer.writerow(ln)\n",
    "\n",
    "# with open('dnd_data/rawmodules/wbtw_saves.csv', 'w', newline='') as f:\n",
    "#     writer = csv.writer(f)\n",
    "#     writer.writerow(['Ability',] + save_data['dc_set'])\n",
    "#     for ability in save_data['ability_set']:\n",
    "#         ln = [ability,] + [save_data['ability_data'][ability].count(dc) for dc in save_data['dc_set']]\n",
    "#         writer.writerow(ln)\n"
   ]
  },
  {
   "cell_type": "code",
   "execution_count": 10,
   "metadata": {},
   "outputs": [],
   "source": [
    "with open('dnd_data/rawmodules/wbtw_save_totals.csv', 'w', newline='') as f:\n",
    "    writer = csv.writer(f)\n",
    "    writer.writerow(['Ability', 'Count'] )\n",
    "    for k, v in save_data['ability_data'].items():\n",
    "        writer.writerow([k, len(v)])"
   ]
  }
 ],
 "metadata": {
  "interpreter": {
   "hash": "b10d885eb82a3dafb5ed49c82e093d6804f89db3bc499c3d1802784558c98e4d"
  },
  "kernelspec": {
   "display_name": "Python 3.8.10 64-bit ('DnDNotebook': conda)",
   "language": "python",
   "name": "python3"
  },
  "language_info": {
   "codemirror_mode": {
    "name": "ipython",
    "version": 3
   },
   "file_extension": ".py",
   "mimetype": "text/x-python",
   "name": "python",
   "nbconvert_exporter": "python",
   "pygments_lexer": "ipython3",
   "version": "3.8.10"
  },
  "orig_nbformat": 4
 },
 "nbformat": 4,
 "nbformat_minor": 2
}

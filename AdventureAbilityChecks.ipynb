{
 "cells": [
  {
   "cell_type": "markdown",
   "metadata": {},
   "source": [
    "These scripts parses text looking for ability and skill checks and their DC."
   ]
  },
  {
   "cell_type": "code",
   "execution_count": 54,
   "metadata": {},
   "outputs": [],
   "source": [
    "import re, csv\n",
    "import numpy as np\n",
    "import pandas as pd\n",
    "import matplotlib.pyplot as plt"
   ]
  },
  {
   "cell_type": "code",
   "execution_count": 55,
   "metadata": {},
   "outputs": [],
   "source": [
    "skill_pattern = re.compile(r\"\\bDC\\s+(\\b\\d+\\b)\\s+\\b(Strength|Dexterity|Constitution|Wisdom|Intelligence|Charisma)\\s+\\((.+?)\\)\")\n",
    "\n",
    "def find_skill_checks(filename):\n",
    "    text = \"\"\n",
    "    with open(filename, \"r\", encoding=\"utf-8\") as textfile:\n",
    "        text = ' '.join(textfile.readlines()).replace('\\n', '')\n",
    "    data = []\n",
    "    for match in skill_pattern.finditer(text):\n",
    "        d = {\n",
    "            'DC': int(match.group(1)),\n",
    "            'Ability': match.group(2),\n",
    "        }\n",
    "        try:\n",
    "            d['Skill'] = match.group(3)\n",
    "        except IndexError:\n",
    "            d['Skill'] = None\n",
    "        data.append(d)\n",
    "    return data\n",
    "\n",
    "save_pattern = re.compile(r\"\\bDC\\s+(\\b\\d+\\b)\\s+\\b(Strength|Dexterity|Constitution|Wisdom|Intelligence|Charisma)\\s+?saving throw\\b\")\n",
    "\n",
    "def find_saves(filename):\n",
    "    text = \"\"\n",
    "    with open(filename, \"r\", encoding=\"utf-8\") as textfile:\n",
    "        text = ' '.join(textfile.readlines()).replace('\\n', '')\n",
    "    data = []\n",
    "    for match in save_pattern.finditer(text):\n",
    "        d = {\n",
    "            'DC': int(match.group(1)),\n",
    "            'Ability': match.group(2),\n",
    "        }\n",
    "        data.append(d)\n",
    "    return data"
   ]
  },
  {
   "cell_type": "code",
   "execution_count": 56,
   "metadata": {},
   "outputs": [],
   "source": [
    "def prepare_data(data):\n",
    "    dc_set = sorted(list(set([item['DC'] for item in data])))\n",
    "    ability_set = sorted(list(set([item['Ability'] for item in data])))\n",
    "\n",
    "    dc_count = {}\n",
    "    for dc in dc_set:\n",
    "        dc_count[dc] = [item['DC'] for item in data].count(dc)\n",
    "\n",
    "    ability_count = {}\n",
    "    for ability in ability_set:\n",
    "        ability_count[ability] = [item['Ability'] for item in data].count(ability)\n",
    "\n",
    "    ability_data = {}\n",
    "    for ability in ability_set:\n",
    "        ability_data[ability] = [item['DC'] for item in data if item['Ability'] == ability]\n",
    "    \n",
    "    return {\n",
    "        'dc_set': dc_set,\n",
    "        'ability_set': ability_set,\n",
    "        'dc_count': dc_count, \n",
    "        'ability_count': ability_count, \n",
    "        'ability_data': ability_data}\n"
   ]
  },
  {
   "cell_type": "code",
   "execution_count": 74,
   "metadata": {},
   "outputs": [
    {
     "name": "stdout",
     "output_type": "stream",
     "text": [
      "42\n"
     ]
    }
   ],
   "source": [
    "wbtw_skills = find_skill_checks('dnd_data/rawmodules/wbtw.txt')\n",
    "\n",
    "wbtw_saves = find_saves('dnd_data/rawmodules/wbtw.txt')\n",
    "print(len(wbtw_saves))\n",
    "\n",
    "skill_data = prepare_data(wbtw_skills)\n",
    "save_data = prepare_data(wbtw_saves)"
   ]
  },
  {
   "cell_type": "code",
   "execution_count": 60,
   "metadata": {},
   "outputs": [
    {
     "name": "stdout",
     "output_type": "stream",
     "text": [
      "{'Charisma': [12, 15, 12, 14, 13, 12, 12, 15, 13, 12, 13, 15, 13, 17, 10, 13, 15, 15, 9, 9, 13, 12, 15, 12], 'Dexterity': [15, 12, 10, 13, 10, 15, 12, 13, 12, 16, 16, 14, 10, 12], 'Intelligence': [18, 15, 15, 13, 18, 15, 15, 10, 20, 20, 18, 15, 18, 20, 14, 15, 15, 15, 15, 15, 18, 16], 'Strength': [13, 10, 17, 17, 17, 13, 10, 16, 10, 25, 17, 15, 22, 30, 14, 16, 15, 22, 20, 20], 'Wisdom': [12, 14, 15, 15, 18, 12, 13, 15, 10, 10, 10, 10, 10, 15, 15, 16, 15, 12, 10, 16, 13, 12, 12, 17, 16, 15, 15, 15, 15, 15, 15]}\n"
     ]
    }
   ],
   "source": [
    "print(skill_data['ability_data'])"
   ]
  },
  {
   "cell_type": "code",
   "execution_count": 73,
   "metadata": {},
   "outputs": [],
   "source": [
    "# with open('dnd_data/rawmodules/wbtw_skills.csv', 'w', newline='') as f:\n",
    "#     writer = csv.writer(f)\n",
    "#     writer.writerow(['Ability',] + skill_data['dc_set'])\n",
    "#     for ability in skill_data['ability_set']:\n",
    "#         ln = [ability,] + [skill_data['ability_data'][ability].count(dc) for dc in skill_data['dc_set']]\n",
    "#         writer.writerow(ln)\n",
    "\n",
    "# with open('dnd_data/rawmodules/wbtw_saves.csv', 'w', newline='') as f:\n",
    "#     writer = csv.writer(f)\n",
    "#     writer.writerow(['Ability',] + save_data['dc_set'])\n",
    "#     for ability in save_data['ability_set']:\n",
    "#         ln = [ability,] + [save_data['ability_data'][ability].count(dc) for dc in save_data['dc_set']]\n",
    "#         writer.writerow(ln)\n"
   ]
  }
 ],
 "metadata": {
  "interpreter": {
   "hash": "b10d885eb82a3dafb5ed49c82e093d6804f89db3bc499c3d1802784558c98e4d"
  },
  "kernelspec": {
   "display_name": "Python 3.8.10 64-bit ('DnDNotebook': conda)",
   "language": "python",
   "name": "python3"
  },
  "language_info": {
   "codemirror_mode": {
    "name": "ipython",
    "version": 3
   },
   "file_extension": ".py",
   "mimetype": "text/x-python",
   "name": "python",
   "nbconvert_exporter": "python",
   "pygments_lexer": "ipython3",
   "version": "3.8.12"
  },
  "orig_nbformat": 4
 },
 "nbformat": 4,
 "nbformat_minor": 2
}

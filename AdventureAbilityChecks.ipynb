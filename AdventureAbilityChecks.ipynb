{
 "cells": [
  {
   "cell_type": "markdown",
   "metadata": {},
   "source": [
    "These scripts parses text looking for ability and skill checks and their DC."
   ]
  },
  {
   "cell_type": "code",
   "execution_count": 1,
   "metadata": {},
   "outputs": [],
   "source": [
    "import re\n",
    "import numpy as np\n",
    "import pandas as pd\n",
    "import matplotlib.pyplot as plt"
   ]
  },
  {
   "cell_type": "code",
   "execution_count": 63,
   "metadata": {},
   "outputs": [],
   "source": [
    "dc_pattern = re.compile(r\"\\bDC\\s+(\\b\\d+\\b)\\s+\\b(Strength|Dexterity|Constitution|Wisdom|Intelligence|Charisma)\\s+\\((.+?)\\)\")\n",
    "def find_checks(filename):\n",
    "    text = \"\"\n",
    "    data = []\n",
    "    with open(filename, \"r\", encoding=\"utf-8\") as textfile:\n",
    "        text = ' '.join(textfile.readlines()).replace('\\n', '')\n",
    "    for match in dc_pattern.finditer(text):\n",
    "        d = {\n",
    "            'DC': match.group(1),\n",
    "            'Ability': match.group(2),\n",
    "        }\n",
    "        try:\n",
    "            d['Skill'] = match.group(3)\n",
    "        except IndexError:\n",
    "            d['Skill'] = None\n",
    "        data.append(d)\n",
    "    return data"
   ]
  },
  {
   "cell_type": "code",
   "execution_count": 64,
   "metadata": {},
   "outputs": [
    {
     "name": "stdout",
     "output_type": "stream",
     "text": [
      "111\n",
      "[{'DC': '15', 'Ability': 'Dexterity', 'Skill': 'Stealth'}, {'DC': '12', 'Ability': 'Dexterity', 'Skill': 'Stealth'}, {'DC': '10', 'Ability': 'Dexterity', 'Skill': 'Acrobatics'}, {'DC': '18', 'Ability': 'Intelligence', 'Skill': 'Investigation'}, {'DC': '12', 'Ability': 'Wisdom', 'Skill': 'Animal Handling'}, {'DC': '14', 'Ability': 'Wisdom', 'Skill': 'Animal Handling'}, {'DC': '15', 'Ability': 'Intelligence', 'Skill': 'History'}, {'DC': '15', 'Ability': 'Wisdom', 'Skill': 'Perception'}, {'DC': '15', 'Ability': 'Wisdom', 'Skill': 'Perception'}, {'DC': '12', 'Ability': 'Charisma', 'Skill': 'Persuasion'}, {'DC': '18', 'Ability': 'Wisdom', 'Skill': 'Perception'}, {'DC': '15', 'Ability': 'Charisma', 'Skill': 'Performance'}, {'DC': '12', 'Ability': 'Wisdom', 'Skill': 'Animal Handling'}, {'DC': '15', 'Ability': 'Intelligence', 'Skill': 'Investigation'}, {'DC': '13', 'Ability': 'Dexterity', 'Skill': 'Sleight of Hand'}, {'DC': '13', 'Ability': 'Intelligence', 'Skill': 'Investigation'}, {'DC': '13', 'Ability': 'Wisdom', 'Skill': 'Insight'}, {'DC': '12', 'Ability': 'Charisma', 'Skill': 'Intimidation or Persuasion'}, {'DC': '14', 'Ability': 'Charisma', 'Skill': 'Performance'}, {'DC': '15', 'Ability': 'Wisdom', 'Skill': 'Survival'}, {'DC': '10', 'Ability': 'Wisdom', 'Skill': 'Survival'}, {'DC': '10', 'Ability': 'Wisdom', 'Skill': 'Survival'}, {'DC': '13', 'Ability': 'Strength', 'Skill': 'Athletics'}, {'DC': '13', 'Ability': 'Charisma', 'Skill': 'Intimidation'}, {'DC': '10', 'Ability': 'Wisdom', 'Skill': 'Survival'}, {'DC': '10', 'Ability': 'Dexterity', 'Skill': 'Sleight of Hand'}, {'DC': '12', 'Ability': 'Charisma', 'Skill': 'Persuasion'}, {'DC': '10', 'Ability': 'Strength', 'Skill': 'Athletics'}, {'DC': '17', 'Ability': 'Strength', 'Skill': 'Athletics'}, {'DC': '12', 'Ability': 'Charisma', 'Skill': 'Persuasion'}, {'DC': '17', 'Ability': 'Strength', 'Skill': 'Athletics'}, {'DC': '17', 'Ability': 'Strength', 'Skill': 'Athletics'}, {'DC': '18', 'Ability': 'Intelligence', 'Skill': 'Investigation'}, {'DC': '15', 'Ability': 'Charisma', 'Skill': 'Persuasion'}, {'DC': '13', 'Ability': 'Strength', 'Skill': 'Athletics'}, {'DC': '13', 'Ability': 'Charisma', 'Skill': 'Deception or Persuasion'}, {'DC': '15', 'Ability': 'Dexterity', 'Skill': 'Stealth'}, {'DC': '15', 'Ability': 'Intelligence', 'Skill': 'Nature'}, {'DC': '15', 'Ability': 'Intelligence', 'Skill': 'Nature'}, {'DC': '10', 'Ability': 'Wisdom', 'Skill': 'Perception'}, {'DC': '10', 'Ability': 'Strength', 'Skill': 'Athletics'}, {'DC': '10', 'Ability': 'Intelligence', 'Skill': 'Investigation'}, {'DC': '10', 'Ability': 'Wisdom', 'Skill': 'Perception'}, {'DC': '16', 'Ability': 'Strength', 'Skill': 'Athletics'}, {'DC': '10', 'Ability': 'Strength', 'Skill': 'Athletics'}, {'DC': '25', 'Ability': 'Strength', 'Skill': 'Athletics'}, {'DC': '17', 'Ability': 'Strength', 'Skill': 'Athletics'}, {'DC': '12', 'Ability': 'Charisma', 'Skill': 'Performance'}, {'DC': '13', 'Ability': 'Charisma', 'Skill': 'Performance'}, {'DC': '20', 'Ability': 'Intelligence', 'Skill': 'Arcana'}, {'DC': '15', 'Ability': 'Charisma', 'Skill': 'Persuasion'}, {'DC': '13', 'Ability': 'Charisma', 'Skill': 'Persuasion'}, {'DC': '20', 'Ability': 'Intelligence', 'Skill': 'Nature'}, {'DC': '15', 'Ability': 'Wisdom', 'Skill': 'Survival'}, {'DC': '15', 'Ability': 'Wisdom', 'Skill': 'Animal Handling'}, {'DC': '18', 'Ability': 'Intelligence', 'Skill': 'Investigation'}, {'DC': '15', 'Ability': 'Strength', 'Skill': 'Athletics'}, {'DC': '12', 'Ability': 'Dexterity', 'Skill': 'Stealth'}, {'DC': '16', 'Ability': 'Wisdom', 'Skill': 'Perception'}, {'DC': '15', 'Ability': 'Wisdom', 'Skill': 'Perception'}, {'DC': '15', 'Ability': 'Intelligence', 'Skill': 'Nature'}, {'DC': '17', 'Ability': 'Charisma', 'Skill': 'Persuasion'}, {'DC': '18', 'Ability': 'Intelligence', 'Skill': 'Investigation'}, {'DC': '12', 'Ability': 'Wisdom', 'Skill': 'Insight'}, {'DC': '10', 'Ability': 'Wisdom', 'Skill': 'Medicine'}, {'DC': '10', 'Ability': 'Charisma', 'Skill': 'Deception'}, {'DC': '16', 'Ability': 'Wisdom', 'Skill': 'Perception'}, {'DC': '13', 'Ability': 'Dexterity', 'Skill': 'Acrobatics'}, {'DC': '22', 'Ability': 'Strength', 'Skill': 'Athletics'}, {'DC': '12', 'Ability': 'Dexterity', 'Skill': 'Stealth'}, {'DC': '30', 'Ability': 'Strength', 'Skill': 'Athletics'}, {'DC': '20', 'Ability': 'Intelligence', 'Skill': 'Arcana or History'}, {'DC': '13', 'Ability': 'Charisma', 'Skill': 'Persuasion'}, {'DC': '13', 'Ability': 'Wisdom', 'Skill': 'Insight'}, {'DC': '15', 'Ability': 'Charisma', 'Skill': 'Persuasion'}, {'DC': '12', 'Ability': 'Wisdom', 'Skill': 'Survival'}, {'DC': '14', 'Ability': 'Intelligence', 'Skill': 'Insight'}, {'DC': '14', 'Ability': 'Strength', 'Skill': 'Athletics'}, {'DC': '15', 'Ability': 'Charisma', 'Skill': 'Performance'}, {'DC': '16', 'Ability': 'Strength', 'Skill': 'Athletics'}, {'DC': '16', 'Ability': 'Dexterity', 'Skill': 'Acrobatics'}, {'DC': '16', 'Ability': 'Dexterity', 'Skill': 'Sleight of Hand'}, {'DC': '9', 'Ability': 'Charisma', 'Skill': 'Persuasion'}, {'DC': '9', 'Ability': 'Charisma', 'Skill': 'Deception'}, {'DC': '13', 'Ability': 'Charisma', 'Skill': 'Persuasion'}, {'DC': '12', 'Ability': 'Charisma', 'Skill': 'Deception'}, {'DC': '15', 'Ability': 'Intelligence', 'Skill': 'Arcana'}, {'DC': '12', 'Ability': 'Wisdom', 'Skill': 'Perception'}, {'DC': '14', 'Ability': 'Dexterity', 'Skill': 'Sleight of Hand'}, {'DC': '10', 'Ability': 'Dexterity', 'Skill': 'Sleight of Hand'}, {'DC': '15', 'Ability': 'Intelligence', 'Skill': 'Investigation'}, {'DC': '12', 'Ability': 'Dexterity', 'Skill': 'Stealth'}, {'DC': '15', 'Ability': 'Intelligence', 'Skill': 'Arcana'}, {'DC': '15', 'Ability': 'Intelligence', 'Skill': 'Nature'}, {'DC': '15', 'Ability': 'Intelligence', 'Skill': 'Nature'}, {'DC': '15', 'Ability': 'Strength', 'Skill': 'Athletics'}, {'DC': '17', 'Ability': 'Wisdom', 'Skill': 'Animal Handling'}, {'DC': '16', 'Ability': 'Wisdom', 'Skill': 'Perception'}, {'DC': '22', 'Ability': 'Strength', 'Skill': 'Athletics'}, {'DC': '18', 'Ability': 'Intelligence', 'Skill': 'Investigation'}, {'DC': '20', 'Ability': 'Strength', 'Skill': 'Athletics'}, {'DC': '16', 'Ability': 'Intelligence', 'Skill': 'History'}, {'DC': '15', 'Ability': 'Wisdom', 'Skill': 'Insight'}, {'DC': '20', 'Ability': 'Strength', 'Skill': 'Athletics'}, {'DC': '15', 'Ability': 'Charisma', 'Skill': 'Persuasion'}, {'DC': '15', 'Ability': 'Wisdom', 'Skill': 'Insight'}, {'DC': '15', 'Ability': 'Wisdom', 'Skill': 'Insight'}, {'DC': '15', 'Ability': 'Wisdom', 'Skill': 'Insight'}, {'DC': '15', 'Ability': 'Wisdom', 'Skill': 'Insight'}, {'DC': '15', 'Ability': 'Wisdom', 'Skill': 'Insight'}, {'DC': '12', 'Ability': 'Charisma', 'Skill': 'Persuasion'}]\n"
     ]
    }
   ],
   "source": [
    "wbtw = find_checks('dnd_data/rawmodules/wbtw.txt')\n",
    "print(len(wbtw))\n",
    "print(wbtw)"
   ]
  }
 ],
 "metadata": {
  "interpreter": {
   "hash": "b10d885eb82a3dafb5ed49c82e093d6804f89db3bc499c3d1802784558c98e4d"
  },
  "kernelspec": {
   "display_name": "Python 3.8.10 64-bit ('DnDNotebook': conda)",
   "language": "python",
   "name": "python3"
  },
  "language_info": {
   "codemirror_mode": {
    "name": "ipython",
    "version": 3
   },
   "file_extension": ".py",
   "mimetype": "text/x-python",
   "name": "python",
   "nbconvert_exporter": "python",
   "pygments_lexer": "ipython3",
   "version": "3.8.10"
  },
  "orig_nbformat": 4
 },
 "nbformat": 4,
 "nbformat_minor": 2
}
